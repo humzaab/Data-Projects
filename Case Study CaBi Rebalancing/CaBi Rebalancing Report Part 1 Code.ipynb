{
 "cells": [
  {
   "cell_type": "markdown",
   "metadata": {},
   "source": [
    "# Team 2 \n",
    "# Assignment 3 - Part I"
   ]
  },
  {
   "cell_type": "markdown",
   "metadata": {},
   "source": [
    "## Modules"
   ]
  },
  {
   "cell_type": "code",
   "execution_count": 1,
   "metadata": {},
   "outputs": [],
   "source": [
    "import pandas as pd\n",
    "import numpy as np\n",
    "import matplotlib.pyplot as plt\n",
    "import seaborn as sns\n",
    "import pulp\n",
    "from scipy import stats\n",
    "sns.set()"
   ]
  },
  {
   "cell_type": "markdown",
   "metadata": {},
   "source": [
    "## Load Data"
   ]
  },
  {
   "cell_type": "code",
   "execution_count": 2,
   "metadata": {},
   "outputs": [
    {
     "data": {
      "text/html": [
       "<div>\n",
       "<style scoped>\n",
       "    .dataframe tbody tr th:only-of-type {\n",
       "        vertical-align: middle;\n",
       "    }\n",
       "\n",
       "    .dataframe tbody tr th {\n",
       "        vertical-align: top;\n",
       "    }\n",
       "\n",
       "    .dataframe thead th {\n",
       "        text-align: right;\n",
       "    }\n",
       "</style>\n",
       "<table border=\"1\" class=\"dataframe\">\n",
       "  <thead>\n",
       "    <tr style=\"text-align: right;\">\n",
       "      <th></th>\n",
       "      <th>Node</th>\n",
       "      <th>Demand</th>\n",
       "    </tr>\n",
       "  </thead>\n",
       "  <tbody>\n",
       "    <tr>\n",
       "      <td>0</td>\n",
       "      <td>1</td>\n",
       "      <td>0</td>\n",
       "    </tr>\n",
       "    <tr>\n",
       "      <td>1</td>\n",
       "      <td>2</td>\n",
       "      <td>9</td>\n",
       "    </tr>\n",
       "    <tr>\n",
       "      <td>2</td>\n",
       "      <td>3</td>\n",
       "      <td>12</td>\n",
       "    </tr>\n",
       "    <tr>\n",
       "      <td>3</td>\n",
       "      <td>4</td>\n",
       "      <td>15</td>\n",
       "    </tr>\n",
       "    <tr>\n",
       "      <td>4</td>\n",
       "      <td>5</td>\n",
       "      <td>10</td>\n",
       "    </tr>\n",
       "  </tbody>\n",
       "</table>\n",
       "</div>"
      ],
      "text/plain": [
       "   Node  Demand\n",
       "0     1       0\n",
       "1     2       9\n",
       "2     3      12\n",
       "3     4      15\n",
       "4     5      10"
      ]
     },
     "execution_count": 2,
     "metadata": {},
     "output_type": "execute_result"
    }
   ],
   "source": [
    "# Demand (required bikes) of each Hub\n",
    "dfDemands = pd.read_csv(\"demand_partI.csv\", index_col=0)\n",
    "dfDemands.reset_index(inplace=True)\n",
    "dfDemands.head()"
   ]
  },
  {
   "cell_type": "code",
   "execution_count": 3,
   "metadata": {},
   "outputs": [
    {
     "data": {
      "text/html": [
       "<div>\n",
       "<style scoped>\n",
       "    .dataframe tbody tr th:only-of-type {\n",
       "        vertical-align: middle;\n",
       "    }\n",
       "\n",
       "    .dataframe tbody tr th {\n",
       "        vertical-align: top;\n",
       "    }\n",
       "\n",
       "    .dataframe thead th {\n",
       "        text-align: right;\n",
       "    }\n",
       "</style>\n",
       "<table border=\"1\" class=\"dataframe\">\n",
       "  <thead>\n",
       "    <tr style=\"text-align: right;\">\n",
       "      <th></th>\n",
       "      <th>i</th>\n",
       "      <th>j</th>\n",
       "      <th>Distances</th>\n",
       "    </tr>\n",
       "  </thead>\n",
       "  <tbody>\n",
       "    <tr>\n",
       "      <td>0</td>\n",
       "      <td>1</td>\n",
       "      <td>1</td>\n",
       "      <td>0.000</td>\n",
       "    </tr>\n",
       "    <tr>\n",
       "      <td>1</td>\n",
       "      <td>1</td>\n",
       "      <td>2</td>\n",
       "      <td>3.223</td>\n",
       "    </tr>\n",
       "    <tr>\n",
       "      <td>2</td>\n",
       "      <td>1</td>\n",
       "      <td>3</td>\n",
       "      <td>2.743</td>\n",
       "    </tr>\n",
       "    <tr>\n",
       "      <td>3</td>\n",
       "      <td>1</td>\n",
       "      <td>4</td>\n",
       "      <td>2.206</td>\n",
       "    </tr>\n",
       "    <tr>\n",
       "      <td>4</td>\n",
       "      <td>1</td>\n",
       "      <td>5</td>\n",
       "      <td>0.310</td>\n",
       "    </tr>\n",
       "  </tbody>\n",
       "</table>\n",
       "</div>"
      ],
      "text/plain": [
       "   i  j  Distances\n",
       "0  1  1      0.000\n",
       "1  1  2      3.223\n",
       "2  1  3      2.743\n",
       "3  1  4      2.206\n",
       "4  1  5      0.310"
      ]
     },
     "execution_count": 3,
     "metadata": {},
     "output_type": "execute_result"
    }
   ],
   "source": [
    "# Distances\n",
    "dfDistances = pd.read_excel(\"distances_partI_new.xlsx\", index_col=0)\n",
    "dfDistances.reset_index(inplace=True)\n",
    "dfDistances.head()"
   ]
  },
  {
   "cell_type": "markdown",
   "metadata": {},
   "source": [
    "## Sets"
   ]
  },
  {
   "cell_type": "code",
   "execution_count": 4,
   "metadata": {},
   "outputs": [],
   "source": [
    "# 12 Hubs\n",
    "hubs = list(dfDemands[\"Node\"])\n",
    "numhubs = len(hubs)\n",
    "\n",
    "# Since we have 12 hubs, we have 12 time steps \n",
    "timesteps = list(range(1,numhubs+1))\n",
    "numtimesteps = len(timesteps)"
   ]
  },
  {
   "cell_type": "code",
   "execution_count": 5,
   "metadata": {},
   "outputs": [
    {
     "data": {
      "text/plain": [
       "(12, 12)"
      ]
     },
     "execution_count": 5,
     "metadata": {},
     "output_type": "execute_result"
    }
   ],
   "source": [
    "numhubs, numtimesteps"
   ]
  },
  {
   "cell_type": "markdown",
   "metadata": {},
   "source": [
    "## Parameters"
   ]
  },
  {
   "cell_type": "code",
   "execution_count": 6,
   "metadata": {},
   "outputs": [],
   "source": [
    "# Parameters: Hub i to j distance (dictionary)\n",
    "hubsdistance = {}\n",
    "for i in hubs:\n",
    "    for j in hubs:\n",
    "        hubsdistance[(i,j)] = float(dfDistances[(dfDistances[\"i\"] == i)&(dfDistances[\"j\"] == j)][\"Distances\"])"
   ]
  },
  {
   "cell_type": "code",
   "execution_count": 7,
   "metadata": {},
   "outputs": [],
   "source": [
    "# Parameters: Demand in hub j \n",
    "requiredbike = {}\n",
    "for j in hubs:\n",
    "    requiredbike[j] = float(dfDemands[(dfDemands[\"Node\"]==j)][\"Demand\"])"
   ]
  },
  {
   "cell_type": "markdown",
   "metadata": {},
   "source": [
    "## Variables"
   ]
  },
  {
   "cell_type": "code",
   "execution_count": 8,
   "metadata": {},
   "outputs": [],
   "source": [
    "# Variables: if truck transferred form i to j in time t\n",
    "xvar = pulp.LpVariable.dict(\"x\", (hubs, hubs, timesteps), cat=pulp.LpBinary)"
   ]
  },
  {
   "cell_type": "code",
   "execution_count": 9,
   "metadata": {},
   "outputs": [],
   "source": [
    "# Variables: number of bikes in the truck at time t\n",
    "cvar = pulp.LpVariable.dict(\"c\", (timesteps), lowBound=0.0,upBound=30.0, cat=pulp.LpInteger)"
   ]
  },
  {
   "cell_type": "markdown",
   "metadata": {},
   "source": [
    "## Model Initialization"
   ]
  },
  {
   "cell_type": "code",
   "execution_count": 10,
   "metadata": {},
   "outputs": [],
   "source": [
    "# Initialize model and objective sense\n",
    "Model = pulp.LpProblem(name=\"Model\", sense=pulp.LpMinimize)"
   ]
  },
  {
   "cell_type": "markdown",
   "metadata": {},
   "source": [
    "## Objective Function"
   ]
  },
  {
   "cell_type": "code",
   "execution_count": 11,
   "metadata": {},
   "outputs": [],
   "source": [
    "# Objective: Total distance\n",
    "obj = pulp.lpSum([hubsdistance[(i,j)]*xvar[i,j,t] for i in hubs for j in hubs for t in timesteps])"
   ]
  },
  {
   "cell_type": "code",
   "execution_count": 12,
   "metadata": {},
   "outputs": [],
   "source": [
    "# Add objective function to the model\n",
    "Model += obj"
   ]
  },
  {
   "cell_type": "markdown",
   "metadata": {},
   "source": [
    "## Constraints"
   ]
  },
  {
   "cell_type": "code",
   "execution_count": 13,
   "metadata": {},
   "outputs": [],
   "source": [
    "# Contraint: Every hub just visited once\n",
    "for j in hubs:\n",
    "    Model += pulp.lpSum( [xvar[(i,j,t)] for t in timesteps for i in hubs] ) == 1"
   ]
  },
  {
   "cell_type": "code",
   "execution_count": 14,
   "metadata": {},
   "outputs": [],
   "source": [
    "# Constraint: Conversation of flow\n",
    "for j in hubs:\n",
    "    for t in timesteps[:numtimesteps-1]:\n",
    "        Model += pulp.lpSum( [xvar[(i,j,t)] for i in hubs] ) == pulp.lpSum( [xvar[(j,k,t+1)] for k in hubs] )"
   ]
  },
  {
   "cell_type": "code",
   "execution_count": 15,
   "metadata": {},
   "outputs": [],
   "source": [
    "# Constraint: Truck Starts and ends at the Central Depot\n",
    "\n",
    "# At t=1, the only outflow is from Central Depot\n",
    "Model += pulp.lpSum( [xvar[(1,j,1)] for j in hubs] ) == 1 \n",
    "for i in hubs[1:]:\n",
    "    Model += pulp.lpSum( [xvar[(i,j,1)] for j in hubs] ) == 0\n",
    "\n",
    "# At t=12, the only inflow is to Central Depot\n",
    "Model += pulp.lpSum( [xvar[(i,1,numtimesteps)] for i in hubs] ) == 1 \n",
    "for j in hubs[1:]:\n",
    "    Model += pulp.lpSum( [xvar[(i,j,numtimesteps)] for i in hubs ]) == 0\n"
   ]
  },
  {
   "cell_type": "code",
   "execution_count": 16,
   "metadata": {},
   "outputs": [],
   "source": [
    "# Constraint: Capacity of Truck is maximum 30 bikes\n",
    "\n",
    "# At beginning of day, truck carries 0 bikes\n",
    "Model += cvar[1] == 0\n",
    "\n",
    "# Capacity of truck changes based on bike demand previous period\n",
    "for t in timesteps[:numtimesteps-1]:\n",
    "    Model += cvar[t+1] == cvar[t] + pulp.lpSum([requiredbike[j]*xvar[(i,j,t)] for i in hubs for j in hubs])"
   ]
  },
  {
   "cell_type": "markdown",
   "metadata": {},
   "source": [
    "## Solution Process"
   ]
  },
  {
   "cell_type": "code",
   "execution_count": 17,
   "metadata": {},
   "outputs": [
    {
     "name": "stdout",
     "output_type": "stream",
     "text": [
      "Status: Optimal\n"
     ]
    }
   ],
   "source": [
    "# Write LP to file (optional, but often good to inspect model and find errors)\n",
    "Model.writeLP(\"Model.lp\")\n",
    "\n",
    "# Solve model\n",
    "Model.solve()\n",
    "print(\"Status:\", pulp.LpStatus[Model.status])"
   ]
  },
  {
   "cell_type": "code",
   "execution_count": 18,
   "metadata": {},
   "outputs": [
    {
     "name": "stdout",
     "output_type": "stream",
     "text": [
      "Total cost: 23.333914\n"
     ]
    }
   ],
   "source": [
    "# Total cost\n",
    "totalCost = pulp.value(Model.objective)\n",
    "print(\"Total cost: \" + str(totalCost))"
   ]
  },
  {
   "cell_type": "code",
   "execution_count": 19,
   "metadata": {},
   "outputs": [
    {
     "name": "stdout",
     "output_type": "stream",
     "text": [
      "Timestep 1: Hub 1 to Hub 5 \n",
      "\t    truck capacity: 0.0 \n",
      "\t    distance travelled: 0.31\n",
      "Timestep 2: Hub 5 to Hub 11 \n",
      "\t    truck capacity: 10.0 \n",
      "\t    distance travelled: 4.38162\n",
      "Timestep 3: Hub 11 to Hub 3 \n",
      "\t    truck capacity: 2.0 \n",
      "\t    distance travelled: 4.12802\n",
      "Timestep 4: Hub 3 to Hub 6 \n",
      "\t    truck capacity: 14.0 \n",
      "\t    distance travelled: 0.779001\n",
      "Timestep 5: Hub 6 to Hub 10 \n",
      "\t    truck capacity: 23.0 \n",
      "\t    distance travelled: 3.432\n",
      "Timestep 6: Hub 10 to Hub 7 \n",
      "\t    truck capacity: 16.0 \n",
      "\t    distance travelled: 0.533349\n",
      "Timestep 7: Hub 7 to Hub 4 \n",
      "\t    truck capacity: 3.0 \n",
      "\t    distance travelled: 0.736384\n",
      "Timestep 8: Hub 4 to Hub 2 \n",
      "\t    truck capacity: 18.0 \n",
      "\t    distance travelled: 1.01701\n",
      "Timestep 9: Hub 2 to Hub 9 \n",
      "\t    truck capacity: 27.0 \n",
      "\t    distance travelled: 2.50202\n",
      "Timestep 10: Hub 9 to Hub 12 \n",
      "\t    truck capacity: 19.0 \n",
      "\t    distance travelled: 1.67627\n",
      "Timestep 11: Hub 12 to Hub 8 \n",
      "\t    truck capacity: 12.0 \n",
      "\t    distance travelled: 1.8244\n",
      "Timestep 12: Hub 8 to Hub 1 \n",
      "\t    truck capacity: 3.0 \n",
      "\t    distance travelled: 2.01384\n"
     ]
    }
   ],
   "source": [
    "for t in timesteps:\n",
    "    for i in hubs:\n",
    "        for j in hubs:\n",
    "            if xvar[(i,j,t)].varValue == 1.0:\n",
    "                print(\"Timestep \" + str(t) +\": Hub \" + str(i) +  \" to Hub \" + str(j) + \n",
    "                      \" \\n\\t    truck capacity: \" + str(cvar[t].varValue) +\n",
    "                      \" \\n\\t    distance travelled: \" + str(hubsdistance[(i,j)]))                "
   ]
  }
 ],
 "metadata": {
  "kernelspec": {
   "display_name": "Python 3",
   "language": "python",
   "name": "python3"
  },
  "language_info": {
   "codemirror_mode": {
    "name": "ipython",
    "version": 3
   },
   "file_extension": ".py",
   "mimetype": "text/x-python",
   "name": "python",
   "nbconvert_exporter": "python",
   "pygments_lexer": "ipython3",
   "version": "3.8.8"
  }
 },
 "nbformat": 4,
 "nbformat_minor": 2
}
