{
 "cells": [
  {
   "cell_type": "markdown",
   "metadata": {},
   "source": [
    "# Team 2: SeizeIt! Case Study Code"
   ]
  },
  {
   "cell_type": "markdown",
   "metadata": {},
   "source": [
    "# Import Data"
   ]
  },
  {
   "cell_type": "code",
   "execution_count": 1,
   "metadata": {},
   "outputs": [],
   "source": [
    "import pandas as pd\n",
    "import numpy as np\n",
    "import matplotlib.pyplot as plt\n",
    "import seaborn as sns\n",
    "from scipy import stats\n",
    "from scipy import optimize\n",
    "import pulp\n",
    "from scipy.optimize import minimize, Bounds\n",
    "import statistics\n",
    "sns.set()"
   ]
  },
  {
   "cell_type": "code",
   "execution_count": 2,
   "metadata": {},
   "outputs": [],
   "source": [
    "df = pd.read_csv(\"customer_info_2020.csv\")"
   ]
  },
  {
   "cell_type": "code",
   "execution_count": 3,
   "metadata": {},
   "outputs": [
    {
     "output_type": "execute_result",
     "data": {
      "text/plain": [
       "   age  expenditure  price\n",
       "0   66      3761.73   30.5\n",
       "1   34      2243.36   20.0\n",
       "2   34      2388.02   30.5\n",
       "3   27      1365.82   20.0\n",
       "4   24       444.40   30.5"
      ],
      "text/html": "<div>\n<style scoped>\n    .dataframe tbody tr th:only-of-type {\n        vertical-align: middle;\n    }\n\n    .dataframe tbody tr th {\n        vertical-align: top;\n    }\n\n    .dataframe thead th {\n        text-align: right;\n    }\n</style>\n<table border=\"1\" class=\"dataframe\">\n  <thead>\n    <tr style=\"text-align: right;\">\n      <th></th>\n      <th>age</th>\n      <th>expenditure</th>\n      <th>price</th>\n    </tr>\n  </thead>\n  <tbody>\n    <tr>\n      <th>0</th>\n      <td>66</td>\n      <td>3761.73</td>\n      <td>30.5</td>\n    </tr>\n    <tr>\n      <th>1</th>\n      <td>34</td>\n      <td>2243.36</td>\n      <td>20.0</td>\n    </tr>\n    <tr>\n      <th>2</th>\n      <td>34</td>\n      <td>2388.02</td>\n      <td>30.5</td>\n    </tr>\n    <tr>\n      <th>3</th>\n      <td>27</td>\n      <td>1365.82</td>\n      <td>20.0</td>\n    </tr>\n    <tr>\n      <th>4</th>\n      <td>24</td>\n      <td>444.40</td>\n      <td>30.5</td>\n    </tr>\n  </tbody>\n</table>\n</div>"
     },
     "metadata": {},
     "execution_count": 3
    }
   ],
   "source": [
    "df.head()"
   ]
  },
  {
   "cell_type": "code",
   "execution_count": 4,
   "metadata": {},
   "outputs": [
    {
     "output_type": "execute_result",
     "data": {
      "text/plain": [
       "               age  expenditure        price\n",
       "count  3731.000000  3731.000000  3731.000000\n",
       "mean     33.656392  1889.727832    30.383409\n",
       "std      11.484522  1264.837892     9.879384\n",
       "min      18.000000   188.310000    20.000000\n",
       "25%      25.000000   642.065000    20.000000\n",
       "50%      33.000000  1915.040000    30.500000\n",
       "75%      37.000000  2266.280000    35.000000\n",
       "max      78.000000  8961.230000    60.000000"
      ],
      "text/html": "<div>\n<style scoped>\n    .dataframe tbody tr th:only-of-type {\n        vertical-align: middle;\n    }\n\n    .dataframe tbody tr th {\n        vertical-align: top;\n    }\n\n    .dataframe thead th {\n        text-align: right;\n    }\n</style>\n<table border=\"1\" class=\"dataframe\">\n  <thead>\n    <tr style=\"text-align: right;\">\n      <th></th>\n      <th>age</th>\n      <th>expenditure</th>\n      <th>price</th>\n    </tr>\n  </thead>\n  <tbody>\n    <tr>\n      <th>count</th>\n      <td>3731.000000</td>\n      <td>3731.000000</td>\n      <td>3731.000000</td>\n    </tr>\n    <tr>\n      <th>mean</th>\n      <td>33.656392</td>\n      <td>1889.727832</td>\n      <td>30.383409</td>\n    </tr>\n    <tr>\n      <th>std</th>\n      <td>11.484522</td>\n      <td>1264.837892</td>\n      <td>9.879384</td>\n    </tr>\n    <tr>\n      <th>min</th>\n      <td>18.000000</td>\n      <td>188.310000</td>\n      <td>20.000000</td>\n    </tr>\n    <tr>\n      <th>25%</th>\n      <td>25.000000</td>\n      <td>642.065000</td>\n      <td>20.000000</td>\n    </tr>\n    <tr>\n      <th>50%</th>\n      <td>33.000000</td>\n      <td>1915.040000</td>\n      <td>30.500000</td>\n    </tr>\n    <tr>\n      <th>75%</th>\n      <td>37.000000</td>\n      <td>2266.280000</td>\n      <td>35.000000</td>\n    </tr>\n    <tr>\n      <th>max</th>\n      <td>78.000000</td>\n      <td>8961.230000</td>\n      <td>60.000000</td>\n    </tr>\n  </tbody>\n</table>\n</div>"
     },
     "metadata": {},
     "execution_count": 4
    }
   ],
   "source": [
    "df.describe()"
   ]
  },
  {
   "cell_type": "markdown",
   "metadata": {},
   "source": [
    "# A. Understanding Current Customers"
   ]
  },
  {
   "cell_type": "markdown",
   "metadata": {},
   "source": [
    "## Distribution by Age Groups"
   ]
  },
  {
   "cell_type": "markdown",
   "metadata": {},
   "source": [
    "Divide data into age groups: 18-29, 30-39, 40-49, Over 50."
   ]
  },
  {
   "cell_type": "code",
   "execution_count": 5,
   "metadata": {},
   "outputs": [],
   "source": [
    "# Change Age & Price into Categorical Variable\n",
    "def age_func(x):\n",
    "    if  x < 30:\n",
    "        return '18-29'\n",
    "    elif  x < 40:\n",
    "        return '30-39'\n",
    "    elif  x < 50:\n",
    "        return '40-49'\n",
    "    return 'Over 50'\n",
    "\n",
    "df['Age_Group'] = df['age'].apply(age_func)\n",
    "\n",
    "def price_func(x):\n",
    "    if  x < 30:\n",
    "        return '20-29'\n",
    "    elif  x < 40:\n",
    "        return '30-39'\n",
    "    elif  x < 50:\n",
    "        return '40-49'\n",
    "    return '50-60'\n",
    "\n",
    "df['Price_Group'] = df['price'].apply(price_func)"
   ]
  },
  {
   "cell_type": "markdown",
   "metadata": {},
   "source": [
    "## Age Distribution by Count\n",
    "Age group 18-29 represents 34% of customers, 30-39 representing 49% of customers. Age group 30-39 is also the most profitable group."
   ]
  },
  {
   "cell_type": "code",
   "execution_count": 6,
   "metadata": {},
   "outputs": [
    {
     "output_type": "execute_result",
     "data": {
      "text/plain": [
       "<function matplotlib.pyplot.show(close=None, block=None)>"
      ]
     },
     "metadata": {},
     "execution_count": 6
    },
    {
     "output_type": "display_data",
     "data": {
      "text/plain": "<Figure size 432x288 with 1 Axes>",
      "image/png": "[encoded data removed]"
     },
     "metadata": {}
    }
   ],
   "source": [
    "#Age Distribution by Count\n",
    "age_order = ['18-29','30-39','40-49','Over 50'] \n",
    "sns.countplot(x=\"Age_Group\", data=df, order=age_order)\n",
    "plt.xlabel('Age')\n",
    "plt.ylabel('Frequency')\n",
    "plt.title('Fig.1. Count of Age Groups')\n",
    "plt.show"
   ]
  },
  {
   "cell_type": "code",
   "execution_count": 7,
   "metadata": {},
   "outputs": [
    {
     "output_type": "stream",
     "name": "stdout",
     "text": [
      "Total number of data: 3731\nNumber of Age_Group 18-29: 1266\nNumber of Age_Group 30-39: 1830\nNumber of Age_Group 40-49: 218\nNumber of Age_Group Over 50: 417\n"
     ]
    }
   ],
   "source": [
    "print('Total number of data: '+str(len(df['Age_Group'])))\n",
    "print('Number of Age_Group 18-29: '+str(sum(df['Age_Group']=='18-29')))\n",
    "print('Number of Age_Group 30-39: '+str(sum(df['Age_Group']=='30-39')))\n",
    "print('Number of Age_Group 40-49: '+str(sum(df['Age_Group']=='40-49')))\n",
    "print('Number of Age_Group Over 50: '+str(sum(df['Age_Group']=='Over 50')))"
   ]
  },
  {
   "cell_type": "markdown",
   "metadata": {},
   "source": [
    "## Age Distribution by Total Expenditure"
   ]
  },
  {
   "cell_type": "code",
   "execution_count": 8,
   "metadata": {},
   "outputs": [
    {
     "output_type": "execute_result",
     "data": {
      "text/plain": [
       "<function matplotlib.pyplot.show(close=None, block=None)>"
      ]
     },
     "metadata": {},
     "execution_count": 8
    },
    {
     "output_type": "display_data",
     "data": {
      "text/plain": "<Figure size 432x288 with 1 Axes>",
      "image/png": "[encoded data removed]"
     },
     "metadata": {}
    }
   ],
   "source": [
    "# Age Distribution by Total Expenditure\n",
    "age_order = ['18-29','30-39','40-49','Over 50'] \n",
    "sns.barplot(x='Age_Group', \n",
    "            y='expenditure',\n",
    "            data=df, \n",
    "            order=age_order,\n",
    "            estimator=sum)\n",
    "plt.xlabel('Age')\n",
    "plt.ylabel('Total Expenditure')\n",
    "plt.title('Fig.2. Total Expenditure of Age Group')\n",
    "plt.show"
   ]
  },
  {
   "cell_type": "code",
   "execution_count": 9,
   "metadata": {},
   "outputs": [
    {
     "output_type": "stream",
     "name": "stdout",
     "text": [
      "Total Expenditure: 7050574.539999992\nNumber of Age_Group 18-29: 1058524.9500000014\nNumber of Age_Group 30-39: 4064894.9399999995\nNumber of Age_Group 40-49: 473036.2900000002\nNumber of Age_Group Over 50: 1454118.3599999994\n"
     ]
    }
   ],
   "source": [
    "print('Total Expenditure: '+str(sum(df['expenditure'])))\n",
    "print('Number of Age_Group 18-29: '+str(sum(df[df['Age_Group']=='18-29']['expenditure'])))\n",
    "print('Number of Age_Group 30-39: '+str(sum(df[df['Age_Group']=='30-39']['expenditure'])))\n",
    "print('Number of Age_Group 40-49: '+str(sum(df[df['Age_Group']=='40-49']['expenditure'])))\n",
    "print('Number of Age_Group Over 50: '+str(sum(df[df['Age_Group']=='Over 50']['expenditure'])))"
   ]
  },
  {
   "cell_type": "code",
   "execution_count": 10,
   "metadata": {},
   "outputs": [
    {
     "output_type": "execute_result",
     "data": {
      "text/plain": [
       "<function matplotlib.pyplot.show(close=None, block=None)>"
      ]
     },
     "metadata": {},
     "execution_count": 10
    },
    {
     "output_type": "display_data",
     "data": {
      "text/plain": "<Figure size 432x288 with 1 Axes>",
      "image/png": "[encoded data removed]"
     },
     "metadata": {}
    }
   ],
   "source": [
    "age_order = ['18-29','30-39','40-49','Over 50'] \n",
    "sns.barplot(x='Age_Group', \n",
    "            y='expenditure',\n",
    "            data=df, \n",
    "            order=age_order,\n",
    "            estimator=np.mean)\n",
    "plt.xlabel('Age')\n",
    "plt.ylabel('Average Expenditure')\n",
    "plt.title('Fig.2. Average Expenditure of Age Group')\n",
    "plt.show"
   ]
  },
  {
   "cell_type": "code",
   "execution_count": 11,
   "metadata": {},
   "outputs": [
    {
     "output_type": "stream",
     "name": "stdout",
     "text": [
      "Average Expenditure: 1889.7278316805146\nNumber of Age_Group 18-29: 836.1176540284359\nNumber of Age_Group 30-39: 2221.2540655737703\nNumber of Age_Group 40-49: 2169.89123853211\nNumber of Age_Group Over 50: 3487.0943884892085\n"
     ]
    }
   ],
   "source": [
    "print('Average Expenditure: '+str(np.mean(df['expenditure'])))\n",
    "print('Number of Age_Group 18-29: '+str(np.mean(df[df['Age_Group']=='18-29']['expenditure'])))\n",
    "print('Number of Age_Group 30-39: '+str(np.mean(df[df['Age_Group']=='30-39']['expenditure'])))\n",
    "print('Number of Age_Group 40-49: '+str(np.mean(df[df['Age_Group']=='40-49']['expenditure'])))\n",
    "print('Number of Age_Group Over 50: '+str(np.mean(df[df['Age_Group']=='Over 50']['expenditure'])))"
   ]
  },
  {
   "cell_type": "markdown",
   "metadata": {},
   "source": [
    "## Price Distribution per Age Group"
   ]
  },
  {
   "cell_type": "code",
   "execution_count": 12,
   "metadata": {},
   "outputs": [
    {
     "output_type": "execute_result",
     "data": {
      "text/plain": [
       "<function matplotlib.pyplot.show(close=None, block=None)>"
      ]
     },
     "metadata": {},
     "execution_count": 12
    },
    {
     "output_type": "display_data",
     "data": {
      "text/plain": "<Figure size 432x288 with 1 Axes>",
      "image/png": "[encoded data removed]"
     },
     "metadata": {}
    }
   ],
   "source": [
    "# Price Distribution per Age Group\n",
    "price_order = ['20-29','30-39','40-49','50-60'] \n",
    "sns.countplot(x=\"Price_Group\", hue=\"Age_Group\", data=df, palette=['r','orange','b','g'], order = price_order)\n",
    "plt.xlabel('Price')\n",
    "plt.ylabel('Frequency')\n",
    "plt.title('Fig.3. Distribution of Price per Age Group')\n",
    "plt.show"
   ]
  },
  {
   "cell_type": "code",
   "execution_count": 13,
   "metadata": {},
   "outputs": [],
   "source": [
    "Average = df.groupby('Age_Group').agg({\n",
    "    'price': ['sum','count','max','min']\n",
    "})\n",
    "Average['Average'] = Average['price']['sum']/Average['price']['count']"
   ]
  },
  {
   "cell_type": "code",
   "execution_count": 14,
   "metadata": {},
   "outputs": [
    {
     "output_type": "execute_result",
     "data": {
      "text/plain": [
       "Age_Group\n",
       "18-29      28.637046\n",
       "30-39      29.541803\n",
       "40-49      30.745413\n",
       "Over 50    39.189448\n",
       "Name: Average, dtype: float64"
      ]
     },
     "metadata": {},
     "execution_count": 14
    }
   ],
   "source": [
    "Average['Average']"
   ]
  },
  {
   "cell_type": "code",
   "execution_count": 15,
   "metadata": {},
   "outputs": [
    {
     "output_type": "execute_result",
     "data": {
      "text/plain": [
       "Age_Group\n",
       "18-29      60.0\n",
       "30-39      60.0\n",
       "40-49      60.0\n",
       "Over 50    60.0\n",
       "Name: max, dtype: float64"
      ]
     },
     "metadata": {},
     "execution_count": 15
    }
   ],
   "source": [
    "Average['price']['max']"
   ]
  },
  {
   "cell_type": "code",
   "execution_count": 16,
   "metadata": {},
   "outputs": [
    {
     "output_type": "execute_result",
     "data": {
      "text/plain": [
       "Age_Group\n",
       "18-29      20.0\n",
       "30-39      20.0\n",
       "40-49      20.0\n",
       "Over 50    20.0\n",
       "Name: min, dtype: float64"
      ]
     },
     "metadata": {},
     "execution_count": 16
    }
   ],
   "source": [
    "Average['price']['min']"
   ]
  },
  {
   "cell_type": "markdown",
   "metadata": {},
   "source": [
    "# B. Basic Pricing"
   ]
  },
  {
   "cell_type": "markdown",
   "metadata": {},
   "source": [
    "## Revenue vs. Price - All customers"
   ]
  },
  {
   "cell_type": "code",
   "execution_count": 17,
   "metadata": {},
   "outputs": [],
   "source": [
    "x = []\n",
    "y = []\n",
    "z = []\n",
    "exp = []\n",
    "for i in np.arange(20,60.5,0.5):\n",
    "    x.append(i)\n",
    "    y.append(len(df[df['price']>=i]['age'])*i)\n",
    "    z.append(len(df[df['price']>=i]['age']))\n",
    "    exp.append(sum(df[df['price']>=i]['expenditure']))"
   ]
  },
  {
   "cell_type": "code",
   "execution_count": 18,
   "metadata": {},
   "outputs": [
    {
     "output_type": "execute_result",
     "data": {
      "text/plain": [
       "<function matplotlib.pyplot.show(close=None, block=None)>"
      ]
     },
     "metadata": {},
     "execution_count": 18
    },
    {
     "output_type": "display_data",
     "data": {
      "text/plain": "<Figure size 432x288 with 1 Axes>",
      "image/png": "[encoded data removed]"
     },
     "metadata": {}
    }
   ],
   "source": [
    "plt.plot(x,y)\n",
    "plt.xlabel('Price')\n",
    "plt.ylabel('Revenue')\n",
    "plt.title('Fig.4. Average Price vs. Revenue')\n",
    "plt.show"
   ]
  },
  {
   "cell_type": "code",
   "execution_count": 19,
   "metadata": {},
   "outputs": [
    {
     "output_type": "execute_result",
     "data": {
      "text/plain": [
       "<function matplotlib.pyplot.show(close=None, block=None)>"
      ]
     },
     "metadata": {},
     "execution_count": 19
    },
    {
     "output_type": "display_data",
     "data": {
      "text/plain": "<Figure size 432x288 with 1 Axes>",
      "image/png": "[encoded data removed]"
     },
     "metadata": {}
    }
   ],
   "source": [
    "plt.plot(x,exp)\n",
    "plt.xlabel('Price')\n",
    "plt.ylabel('Total Expenditure')\n",
    "plt.title('Fig.4. Average Price vs. Total Expenditure')\n",
    "plt.show"
   ]
  },
  {
   "cell_type": "code",
   "execution_count": 20,
   "metadata": {},
   "outputs": [
    {
     "output_type": "execute_result",
     "data": {
      "text/plain": [
       "Text(0.5, 1.0, 'Average Price vs. Total Expenditure')"
      ]
     },
     "metadata": {},
     "execution_count": 20
    },
    {
     "output_type": "display_data",
     "data": {
      "text/plain": "<Figure size 432x288 with 2 Axes>",
      "image/png": "[encoded data removed]"
     },
     "metadata": {}
    }
   ],
   "source": [
    "fig, (ax1, ax2) = plt.subplots(1, 2)\n",
    "fig.suptitle('Fig.4. Same Price for all Customers')\n",
    "\n",
    "ax1.plot(x,y)\n",
    "ax1.set_xlabel('Price')\n",
    "ax1.set_ylabel('Revenue')\n",
    "ax1.set_title('Average Price vs. Revenue')\n",
    "\n",
    "ax2.plot(x,exp)\n",
    "ax2.set_xlabel('Price')\n",
    "ax2.set_ylabel('Expenditure')\n",
    "ax2.set_title('Average Price vs. Total Expenditure')"
   ]
  },
  {
   "cell_type": "code",
   "execution_count": 21,
   "metadata": {},
   "outputs": [
    {
     "output_type": "execute_result",
     "data": {
      "text/plain": [
       "    Price  Revenue  # of Cust  Total Expenditure\n",
       "0    20.0  74620.0       3731         7050574.54\n",
       "21   30.5  72529.0       2378         4832773.32\n",
       "20   30.0  71340.0       2378         4832773.32\n",
       "19   29.5  70151.0       2378         4832773.32\n",
       "18   29.0  68962.0       2378         4832773.32\n",
       "17   28.5  67773.0       2378         4832773.32\n",
       "16   28.0  66584.0       2378         4832773.32\n",
       "15   27.5  65395.0       2378         4832773.32\n",
       "14   27.0  64206.0       2378         4832773.32\n",
       "13   26.5  63017.0       2378         4832773.32"
      ],
      "text/html": "<div>\n<style scoped>\n    .dataframe tbody tr th:only-of-type {\n        vertical-align: middle;\n    }\n\n    .dataframe tbody tr th {\n        vertical-align: top;\n    }\n\n    .dataframe thead th {\n        text-align: right;\n    }\n</style>\n<table border=\"1\" class=\"dataframe\">\n  <thead>\n    <tr style=\"text-align: right;\">\n      <th></th>\n      <th>Price</th>\n      <th>Revenue</th>\n      <th># of Cust</th>\n      <th>Total Expenditure</th>\n    </tr>\n  </thead>\n  <tbody>\n    <tr>\n      <th>0</th>\n      <td>20.0</td>\n      <td>74620.0</td>\n      <td>3731</td>\n      <td>7050574.54</td>\n    </tr>\n    <tr>\n      <th>21</th>\n      <td>30.5</td>\n      <td>72529.0</td>\n      <td>2378</td>\n      <td>4832773.32</td>\n    </tr>\n    <tr>\n      <th>20</th>\n      <td>30.0</td>\n      <td>71340.0</td>\n      <td>2378</td>\n      <td>4832773.32</td>\n    </tr>\n    <tr>\n      <th>19</th>\n      <td>29.5</td>\n      <td>70151.0</td>\n      <td>2378</td>\n      <td>4832773.32</td>\n    </tr>\n    <tr>\n      <th>18</th>\n      <td>29.0</td>\n      <td>68962.0</td>\n      <td>2378</td>\n      <td>4832773.32</td>\n    </tr>\n    <tr>\n      <th>17</th>\n      <td>28.5</td>\n      <td>67773.0</td>\n      <td>2378</td>\n      <td>4832773.32</td>\n    </tr>\n    <tr>\n      <th>16</th>\n      <td>28.0</td>\n      <td>66584.0</td>\n      <td>2378</td>\n      <td>4832773.32</td>\n    </tr>\n    <tr>\n      <th>15</th>\n      <td>27.5</td>\n      <td>65395.0</td>\n      <td>2378</td>\n      <td>4832773.32</td>\n    </tr>\n    <tr>\n      <th>14</th>\n      <td>27.0</td>\n      <td>64206.0</td>\n      <td>2378</td>\n      <td>4832773.32</td>\n    </tr>\n    <tr>\n      <th>13</th>\n      <td>26.5</td>\n      <td>63017.0</td>\n      <td>2378</td>\n      <td>4832773.32</td>\n    </tr>\n  </tbody>\n</table>\n</div>"
     },
     "metadata": {},
     "execution_count": 21
    }
   ],
   "source": [
    "price_revenue = pd.DataFrame({'Price':x, 'Revenue': y, '# of Cust':z, 'Total Expenditure':exp})\n",
    "price_revenue.sort_values('Revenue',ascending=False).head(10)"
   ]
  },
  {
   "cell_type": "code",
   "execution_count": 22,
   "metadata": {},
   "outputs": [
    {
     "output_type": "execute_result",
     "data": {
      "text/plain": [
       "    Price  Revenue  # of Cust  Total Expenditure\n",
       "50   45.0  12375.0        275          652433.82"
      ],
      "text/html": "<div>\n<style scoped>\n    .dataframe tbody tr th:only-of-type {\n        vertical-align: middle;\n    }\n\n    .dataframe tbody tr th {\n        vertical-align: top;\n    }\n\n    .dataframe thead th {\n        text-align: right;\n    }\n</style>\n<table border=\"1\" class=\"dataframe\">\n  <thead>\n    <tr style=\"text-align: right;\">\n      <th></th>\n      <th>Price</th>\n      <th>Revenue</th>\n      <th># of Cust</th>\n      <th>Total Expenditure</th>\n    </tr>\n  </thead>\n  <tbody>\n    <tr>\n      <th>50</th>\n      <td>45.0</td>\n      <td>12375.0</td>\n      <td>275</td>\n      <td>652433.82</td>\n    </tr>\n  </tbody>\n</table>\n</div>"
     },
     "metadata": {},
     "execution_count": 22
    }
   ],
   "source": [
    "price_revenue[price_revenue['Price']==45]"
   ]
  },
  {
   "cell_type": "markdown",
   "metadata": {},
   "source": [
    "## Price vs. Revenue per Age Group"
   ]
  },
  {
   "cell_type": "markdown",
   "metadata": {},
   "source": [
    "Age Group 18-29"
   ]
  },
  {
   "cell_type": "code",
   "execution_count": 23,
   "metadata": {},
   "outputs": [
    {
     "output_type": "execute_result",
     "data": {
      "text/plain": [
       "    Price  Revenue  # of Cust  Total Expenditure\n",
       "0    20.0  25320.0       1266         1058524.95\n",
       "21   30.5  19855.5        651          605076.31\n",
       "20   30.0  19530.0        651          605076.31\n",
       "19   29.5  19204.5        651          605076.31\n",
       "18   29.0  18879.0        651          605076.31"
      ],
      "text/html": "<div>\n<style scoped>\n    .dataframe tbody tr th:only-of-type {\n        vertical-align: middle;\n    }\n\n    .dataframe tbody tr th {\n        vertical-align: top;\n    }\n\n    .dataframe thead th {\n        text-align: right;\n    }\n</style>\n<table border=\"1\" class=\"dataframe\">\n  <thead>\n    <tr style=\"text-align: right;\">\n      <th></th>\n      <th>Price</th>\n      <th>Revenue</th>\n      <th># of Cust</th>\n      <th>Total Expenditure</th>\n    </tr>\n  </thead>\n  <tbody>\n    <tr>\n      <th>0</th>\n      <td>20.0</td>\n      <td>25320.0</td>\n      <td>1266</td>\n      <td>1058524.95</td>\n    </tr>\n    <tr>\n      <th>21</th>\n      <td>30.5</td>\n      <td>19855.5</td>\n      <td>651</td>\n      <td>605076.31</td>\n    </tr>\n    <tr>\n      <th>20</th>\n      <td>30.0</td>\n      <td>19530.0</td>\n      <td>651</td>\n      <td>605076.31</td>\n    </tr>\n    <tr>\n      <th>19</th>\n      <td>29.5</td>\n      <td>19204.5</td>\n      <td>651</td>\n      <td>605076.31</td>\n    </tr>\n    <tr>\n      <th>18</th>\n      <td>29.0</td>\n      <td>18879.0</td>\n      <td>651</td>\n      <td>605076.31</td>\n    </tr>\n  </tbody>\n</table>\n</div>"
     },
     "metadata": {},
     "execution_count": 23
    }
   ],
   "source": [
    "x = []\n",
    "y = []\n",
    "z = []\n",
    "exp = []\n",
    "for i in np.arange(20,60.5,0.5):\n",
    "    x.append(i)\n",
    "    y.append(len(df[(df['price']>=i) & (df['Age_Group']=='18-29')])*i)\n",
    "    z.append(len(df[(df['price']>=i) & (df['Age_Group']=='18-29')]))\n",
    "    exp.append(sum(df[(df['price']>=i) & (df['Age_Group']=='18-29')]['expenditure']))\n",
    "    \n",
    "price_revenue_1829 = pd.DataFrame({'Price':x, 'Revenue': y, '# of Cust':z, 'Total Expenditure':exp})\n",
    "price_revenue_1829.sort_values('Revenue',ascending=False).head(5)"
   ]
  },
  {
   "cell_type": "markdown",
   "metadata": {},
   "source": [
    "Age Group 30-39"
   ]
  },
  {
   "cell_type": "code",
   "execution_count": 24,
   "metadata": {},
   "outputs": [
    {
     "output_type": "execute_result",
     "data": {
      "text/plain": [
       "    Price  Revenue  # of Cust  Total Expenditure\n",
       "21   30.5  37606.5       1233         2722306.47\n",
       "20   30.0  36990.0       1233         2722306.47\n",
       "0    20.0  36600.0       1830         4064894.94\n",
       "19   29.5  36373.5       1233         2722306.47\n",
       "18   29.0  35757.0       1233         2722306.47"
      ],
      "text/html": "<div>\n<style scoped>\n    .dataframe tbody tr th:only-of-type {\n        vertical-align: middle;\n    }\n\n    .dataframe tbody tr th {\n        vertical-align: top;\n    }\n\n    .dataframe thead th {\n        text-align: right;\n    }\n</style>\n<table border=\"1\" class=\"dataframe\">\n  <thead>\n    <tr style=\"text-align: right;\">\n      <th></th>\n      <th>Price</th>\n      <th>Revenue</th>\n      <th># of Cust</th>\n      <th>Total Expenditure</th>\n    </tr>\n  </thead>\n  <tbody>\n    <tr>\n      <th>21</th>\n      <td>30.5</td>\n      <td>37606.5</td>\n      <td>1233</td>\n      <td>2722306.47</td>\n    </tr>\n    <tr>\n      <th>20</th>\n      <td>30.0</td>\n      <td>36990.0</td>\n      <td>1233</td>\n      <td>2722306.47</td>\n    </tr>\n    <tr>\n      <th>0</th>\n      <td>20.0</td>\n      <td>36600.0</td>\n      <td>1830</td>\n      <td>4064894.94</td>\n    </tr>\n    <tr>\n      <th>19</th>\n      <td>29.5</td>\n      <td>36373.5</td>\n      <td>1233</td>\n      <td>2722306.47</td>\n    </tr>\n    <tr>\n      <th>18</th>\n      <td>29.0</td>\n      <td>35757.0</td>\n      <td>1233</td>\n      <td>2722306.47</td>\n    </tr>\n  </tbody>\n</table>\n</div>"
     },
     "metadata": {},
     "execution_count": 24
    }
   ],
   "source": [
    "x = []\n",
    "y = []\n",
    "z = []\n",
    "exp = []\n",
    "for i in np.arange(20,60.5,0.5):\n",
    "    x.append(i)\n",
    "    y.append(len(df[(df['price']>=i) & (df['Age_Group']=='30-39')])*i)\n",
    "    z.append(len(df[(df['price']>=i) & (df['Age_Group']=='30-39')]))\n",
    "    exp.append(sum(df[(df['price']>=i) & (df['Age_Group']=='30-39')]['expenditure']))\n",
    "    \n",
    "price_revenue_3039 = pd.DataFrame({'Price':x, 'Revenue': y, '# of Cust':z, 'Total Expenditure':exp})\n",
    "price_revenue_3039.sort_values('Revenue',ascending=False).head(5)"
   ]
  },
  {
   "cell_type": "markdown",
   "metadata": {},
   "source": [
    "Age Group 40-49"
   ]
  },
  {
   "cell_type": "code",
   "execution_count": 25,
   "metadata": {},
   "outputs": [
    {
     "output_type": "execute_result",
     "data": {
      "text/plain": [
       "    Price  Revenue  # of Cust  Total Expenditure\n",
       "21   30.5   4849.5        159          335841.34\n",
       "20   30.0   4770.0        159          335841.34\n",
       "19   29.5   4690.5        159          335841.34\n",
       "18   29.0   4611.0        159          335841.34\n",
       "17   28.5   4531.5        159          335841.34"
      ],
      "text/html": "<div>\n<style scoped>\n    .dataframe tbody tr th:only-of-type {\n        vertical-align: middle;\n    }\n\n    .dataframe tbody tr th {\n        vertical-align: top;\n    }\n\n    .dataframe thead th {\n        text-align: right;\n    }\n</style>\n<table border=\"1\" class=\"dataframe\">\n  <thead>\n    <tr style=\"text-align: right;\">\n      <th></th>\n      <th>Price</th>\n      <th>Revenue</th>\n      <th># of Cust</th>\n      <th>Total Expenditure</th>\n    </tr>\n  </thead>\n  <tbody>\n    <tr>\n      <th>21</th>\n      <td>30.5</td>\n      <td>4849.5</td>\n      <td>159</td>\n      <td>335841.34</td>\n    </tr>\n    <tr>\n      <th>20</th>\n      <td>30.0</td>\n      <td>4770.0</td>\n      <td>159</td>\n      <td>335841.34</td>\n    </tr>\n    <tr>\n      <th>19</th>\n      <td>29.5</td>\n      <td>4690.5</td>\n      <td>159</td>\n      <td>335841.34</td>\n    </tr>\n    <tr>\n      <th>18</th>\n      <td>29.0</td>\n      <td>4611.0</td>\n      <td>159</td>\n      <td>335841.34</td>\n    </tr>\n    <tr>\n      <th>17</th>\n      <td>28.5</td>\n      <td>4531.5</td>\n      <td>159</td>\n      <td>335841.34</td>\n    </tr>\n  </tbody>\n</table>\n</div>"
     },
     "metadata": {},
     "execution_count": 25
    }
   ],
   "source": [
    "x = []\n",
    "y = []\n",
    "z = []\n",
    "exp = []\n",
    "for i in np.arange(20,60.5,0.5):\n",
    "    x.append(i)\n",
    "    y.append(len(df[(df['price']>=i) & (df['Age_Group']=='40-49')])*i)\n",
    "    z.append(len(df[(df['price']>=i) & (df['Age_Group']=='40-49')]))\n",
    "    exp.append(sum(df[(df['price']>=i) & (df['Age_Group']=='40-49')]['expenditure']))\n",
    "    \n",
    "price_revenue_4049 = pd.DataFrame({'Price':x, 'Revenue': y, '# of Cust':z, 'Total Expenditure':exp})\n",
    "price_revenue_4049.sort_values('Revenue',ascending=False).head(5)"
   ]
  },
  {
   "cell_type": "markdown",
   "metadata": {},
   "source": [
    "Age Group Over50"
   ]
  },
  {
   "cell_type": "code",
   "execution_count": 26,
   "metadata": {},
   "outputs": [
    {
     "output_type": "execute_result",
     "data": {
      "text/plain": [
       "    Price  Revenue  # of Cust  Total Expenditure\n",
       "21   30.5  10217.5        335          1169549.2\n",
       "20   30.0  10050.0        335          1169549.2\n",
       "19   29.5   9882.5        335          1169549.2\n",
       "18   29.0   9715.0        335          1169549.2\n",
       "17   28.5   9547.5        335          1169549.2"
      ],
      "text/html": "<div>\n<style scoped>\n    .dataframe tbody tr th:only-of-type {\n        vertical-align: middle;\n    }\n\n    .dataframe tbody tr th {\n        vertical-align: top;\n    }\n\n    .dataframe thead th {\n        text-align: right;\n    }\n</style>\n<table border=\"1\" class=\"dataframe\">\n  <thead>\n    <tr style=\"text-align: right;\">\n      <th></th>\n      <th>Price</th>\n      <th>Revenue</th>\n      <th># of Cust</th>\n      <th>Total Expenditure</th>\n    </tr>\n  </thead>\n  <tbody>\n    <tr>\n      <th>21</th>\n      <td>30.5</td>\n      <td>10217.5</td>\n      <td>335</td>\n      <td>1169549.2</td>\n    </tr>\n    <tr>\n      <th>20</th>\n      <td>30.0</td>\n      <td>10050.0</td>\n      <td>335</td>\n      <td>1169549.2</td>\n    </tr>\n    <tr>\n      <th>19</th>\n      <td>29.5</td>\n      <td>9882.5</td>\n      <td>335</td>\n      <td>1169549.2</td>\n    </tr>\n    <tr>\n      <th>18</th>\n      <td>29.0</td>\n      <td>9715.0</td>\n      <td>335</td>\n      <td>1169549.2</td>\n    </tr>\n    <tr>\n      <th>17</th>\n      <td>28.5</td>\n      <td>9547.5</td>\n      <td>335</td>\n      <td>1169549.2</td>\n    </tr>\n  </tbody>\n</table>\n</div>"
     },
     "metadata": {},
     "execution_count": 26
    }
   ],
   "source": [
    "x = []\n",
    "y = []\n",
    "z = []\n",
    "exp = []\n",
    "for i in np.arange(20,60.5,0.5):\n",
    "    x.append(i)\n",
    "    y.append(len(df[(df['price']>=i) & (df['Age_Group']=='Over 50')])*i)\n",
    "    z.append(len(df[(df['price']>=i) & (df['Age_Group']=='Over 50')]))\n",
    "    exp.append(sum(df[(df['price']>=i) & (df['Age_Group']=='Over 50')]['expenditure']))    \n",
    "    \n",
    "price_revenue_over50 = pd.DataFrame({'Price':x, 'Revenue': y, '# of Cust':z, 'Total Expenditure':exp})\n",
    "price_revenue_over50.sort_values('Revenue',ascending=False).head(5)"
   ]
  },
  {
   "cell_type": "code",
   "execution_count": 27,
   "metadata": {},
   "outputs": [
    {
     "output_type": "stream",
     "name": "stderr",
     "text": [
      "C:\\Users\\buttb\\AppData\\Local\\Packages\\PythonSoftwareFoundation.Python.3.8_qbz5n2kfra8p0\\LocalCache\\local-packages\\Python38\\site-packages\\seaborn\\_decorators.py:36: FutureWarning: Pass the following variables as keyword args: x, y. From version 0.12, the only valid positional argument will be `data`, and passing other arguments without an explicit keyword will result in an error or misinterpretation.\n  warnings.warn(\n"
     ]
    },
    {
     "output_type": "execute_result",
     "data": {
      "text/plain": [
       "<function matplotlib.pyplot.show(close=None, block=None)>"
      ]
     },
     "metadata": {},
     "execution_count": 27
    },
    {
     "output_type": "display_data",
     "data": {
      "text/plain": "<Figure size 432x288 with 1 Axes>",
      "image/png": "[encoded data removed]"
     },
     "metadata": {}
    }
   ],
   "source": [
    "price_opt = 20\n",
    "\n",
    "Rev_1829 = sum(df['Age_Group']=='18-29')*price_opt\n",
    "Rev_3039 = sum(df['Age_Group']=='30-39')*price_opt\n",
    "Rev_4049 = sum(df['Age_Group']=='40-49')*price_opt\n",
    "Rev_over50 = sum(df['Age_Group']=='Over 50')*price_opt\n",
    "revenue = [Rev_1829, Rev_3039, Rev_4049, Rev_over50]\n",
    "age = ['18-29','30-39','40-49','Over 50'] \n",
    "sns.barplot(age, revenue)\n",
    "plt.xlabel('Age')\n",
    "plt.ylabel('Total Revenue')\n",
    "plt.title('Fig.5. Total Revenue by Age Groups at Constant Price of $20')\n",
    "plt.show"
   ]
  },
  {
   "cell_type": "markdown",
   "metadata": {},
   "source": [
    "## Revenue 18-26 at 20 dollars, over 26 at 30.5 dollars "
   ]
  },
  {
   "cell_type": "code",
   "execution_count": 28,
   "metadata": {},
   "outputs": [
    {
     "output_type": "execute_result",
     "data": {
      "text/plain": [
       "<function matplotlib.pyplot.show(close=None, block=None)>"
      ]
     },
     "metadata": {},
     "execution_count": 28
    },
    {
     "output_type": "display_data",
     "data": {
      "text/plain": "<Figure size 432x288 with 1 Axes>",
      "image/png": "[encoded data removed]"
     },
     "metadata": {}
    }
   ],
   "source": [
    "Revenue_18_29 = price_revenue_1829.sort_values('Price')['Revenue']\n",
    "Revenue_30_39 = price_revenue_3039.sort_values('Price')['Revenue']\n",
    "Revenue_40_49 = price_revenue_4049.sort_values('Price')['Revenue']\n",
    "Revenue_40_49 = price_revenue_4049.sort_values('Price')['Revenue']\n",
    "Revenue_Over_50 = price_revenue_over50.sort_values('Price')['Revenue']\n",
    "\n",
    "plt.plot(x,Revenue_18_29,label=\"Revenue 18-29\")\n",
    "plt.plot(x,Revenue_30_39,label=\"Revenue 30-39\")\n",
    "plt.plot(x,Revenue_40_49,label=\"Revenue 40-49\")\n",
    "plt.plot(x,Revenue_Over_50,label=\"Revenue Over 50\")\n",
    "plt.xlabel('Price')\n",
    "plt.ylabel('Total Revenue')\n",
    "plt.title('Fig.5. Total Revenue by Age Groups at Different Prices')\n",
    "plt.legend()\n",
    "plt.show"
   ]
  },
  {
   "cell_type": "markdown",
   "metadata": {},
   "source": [
    "Segregating 18-29 further"
   ]
  },
  {
   "cell_type": "code",
   "execution_count": 29,
   "metadata": {},
   "outputs": [
    {
     "output_type": "execute_result",
     "data": {
      "text/plain": [
       "    Price  Revenue  # of Cust\n",
       "21   30.5   4697.0        154\n",
       "20   30.0   4620.0        154\n",
       "19   29.5   4543.0        154\n",
       "0    20.0   4540.0        227\n",
       "18   29.0   4466.0        154"
      ],
      "text/html": "<div>\n<style scoped>\n    .dataframe tbody tr th:only-of-type {\n        vertical-align: middle;\n    }\n\n    .dataframe tbody tr th {\n        vertical-align: top;\n    }\n\n    .dataframe thead th {\n        text-align: right;\n    }\n</style>\n<table border=\"1\" class=\"dataframe\">\n  <thead>\n    <tr style=\"text-align: right;\">\n      <th></th>\n      <th>Price</th>\n      <th>Revenue</th>\n      <th># of Cust</th>\n    </tr>\n  </thead>\n  <tbody>\n    <tr>\n      <th>21</th>\n      <td>30.5</td>\n      <td>4697.0</td>\n      <td>154</td>\n    </tr>\n    <tr>\n      <th>20</th>\n      <td>30.0</td>\n      <td>4620.0</td>\n      <td>154</td>\n    </tr>\n    <tr>\n      <th>19</th>\n      <td>29.5</td>\n      <td>4543.0</td>\n      <td>154</td>\n    </tr>\n    <tr>\n      <th>0</th>\n      <td>20.0</td>\n      <td>4540.0</td>\n      <td>227</td>\n    </tr>\n    <tr>\n      <th>18</th>\n      <td>29.0</td>\n      <td>4466.0</td>\n      <td>154</td>\n    </tr>\n  </tbody>\n</table>\n</div>"
     },
     "metadata": {},
     "execution_count": 29
    }
   ],
   "source": [
    "x = []\n",
    "y = []\n",
    "z = []\n",
    "for i in np.arange(20,60.5,0.5):\n",
    "    x.append(i)\n",
    "    y.append(len(df[(df['price']>=i) & (df['Age_Group']=='18-29') & (df['age']>=27)])*i)\n",
    "    z.append(len(df[(df['price']>=i) & (df['Age_Group']=='18-29') & (df['age']>=27)]))\n",
    "    \n",
    "price_revenue_1829 = pd.DataFrame({'Price':x, 'Revenue': y, '# of Cust':z})\n",
    "price_revenue_1829.sort_values('Revenue',ascending=False).head(5)"
   ]
  },
  {
   "cell_type": "code",
   "execution_count": 30,
   "metadata": {},
   "outputs": [
    {
     "output_type": "stream",
     "name": "stdout",
     "text": [
      "Total Revenue: $78150.5\n    - Revenue 18-26 at $20: $20780\n    - Revenue 27 and Over at $30.5: $57370.5\n"
     ]
    }
   ],
   "source": [
    "df['Under 27'] = df['age']<27\n",
    "\n",
    "price_under27 = 20\n",
    "price_over27 = 30.5\n",
    "revenue_under27 = len(df[(df['Under 27']==True)&(df['price']>=price_under27)])*price_under27\n",
    "revenue_over27 = len(df[(df['Under 27']==False)&(df['price']>=price_over27)])*price_over27\n",
    "Total_Revenue = revenue_under27 + revenue_over27\n",
    "\n",
    "print(\"Total Revenue: $\" + str(Total_Revenue) \n",
    "      + \"\\n    - Revenue 18-26 at $20: $\" + str(revenue_under27)\n",
    "      + \"\\n    - Revenue 27 and Over at $30.5: $\" + str(revenue_over27))"
   ]
  },
  {
   "cell_type": "code",
   "execution_count": 31,
   "metadata": {},
   "outputs": [
    {
     "output_type": "stream",
     "name": "stdout",
     "text": [
      "Revenue of Age_Group 18-29:   $23860\nRevenue of Age_Group 30-39:   $37606.5\nRevenue of Age_Group 40-49:   $4849.5\nRevenue of Age_Group Over 50: $10217.5\n"
     ]
    }
   ],
   "source": [
    "Rev_1829 = (len(df[(df['age']<27)&(df['price']>=price_under27)])*price_under27) + (len(df[(df['age']>=27)&(df['Age_Group']=='18-29')&(df['price']>=price_over27)])*price_under27)\n",
    "Rev_3039 = sum((df['Age_Group']=='30-39')&(df['price']>=price_over27))*price_over27\n",
    "Rev_4049 = sum((df['Age_Group']=='40-49')&(df['price']>=price_over27))*price_over27\n",
    "Rev_over50 = sum((df['Age_Group']=='Over 50')&(df['price']>=price_over27))*price_over27\n",
    "\n",
    "print('Revenue of Age_Group 18-29:   $'+str(Rev_1829))\n",
    "print('Revenue of Age_Group 30-39:   $'+str(Rev_3039))\n",
    "print('Revenue of Age_Group 40-49:   $'+str(Rev_4049))\n",
    "print('Revenue of Age_Group Over 50: $'+str(Rev_over50))"
   ]
  },
  {
   "cell_type": "code",
   "execution_count": 32,
   "metadata": {},
   "outputs": [
    {
     "output_type": "stream",
     "name": "stderr",
     "text": [
      "C:\\Users\\buttb\\AppData\\Local\\Packages\\PythonSoftwareFoundation.Python.3.8_qbz5n2kfra8p0\\LocalCache\\local-packages\\Python38\\site-packages\\seaborn\\_decorators.py:36: FutureWarning: Pass the following variables as keyword args: x, y. From version 0.12, the only valid positional argument will be `data`, and passing other arguments without an explicit keyword will result in an error or misinterpretation.\n  warnings.warn(\n"
     ]
    },
    {
     "output_type": "execute_result",
     "data": {
      "text/plain": [
       "<function matplotlib.pyplot.show(close=None, block=None)>"
      ]
     },
     "metadata": {},
     "execution_count": 32
    },
    {
     "output_type": "display_data",
     "data": {
      "text/plain": "<Figure size 432x288 with 1 Axes>",
      "image/png": "[encoded data removed]"
     },
     "metadata": {}
    }
   ],
   "source": [
    "revenue = [Rev_1829, Rev_3039, Rev_4049, Rev_over50]\n",
    "age = ['18-29','30-39','40-49','Over 50'] \n",
    "sns.barplot(age, revenue)\n",
    "plt.xlabel('Age')\n",
    "plt.ylabel('Total Revenue')\n",
    "plt.title('Fig.6. Total Revenue by Age Groups with Price Groups')\n",
    "plt.show"
   ]
  },
  {
   "cell_type": "markdown",
   "metadata": {},
   "source": [
    "# Optimization"
   ]
  },
  {
   "cell_type": "code",
   "execution_count": 33,
   "metadata": {},
   "outputs": [],
   "source": [
    "demand_dist = df.groupby('price')['age'].count()\n",
    "demand_dist = demand_dist.reset_index(level='price', name='age')\n",
    "demand_dist.rename(columns = {'age' : 'quantity'}, inplace = True)"
   ]
  },
  {
   "cell_type": "code",
   "execution_count": 34,
   "metadata": {},
   "outputs": [
    {
     "output_type": "execute_result",
     "data": {
      "text/plain": [
       "   price  quantity\n",
       "0   20.0      1353\n",
       "1   30.5       980\n",
       "2   35.0       817\n",
       "3   42.5       306\n",
       "4   50.0       120\n",
       "5   54.5        89\n",
       "6   60.0        66"
      ],
      "text/html": "<div>\n<style scoped>\n    .dataframe tbody tr th:only-of-type {\n        vertical-align: middle;\n    }\n\n    .dataframe tbody tr th {\n        vertical-align: top;\n    }\n\n    .dataframe thead th {\n        text-align: right;\n    }\n</style>\n<table border=\"1\" class=\"dataframe\">\n  <thead>\n    <tr style=\"text-align: right;\">\n      <th></th>\n      <th>price</th>\n      <th>quantity</th>\n    </tr>\n  </thead>\n  <tbody>\n    <tr>\n      <th>0</th>\n      <td>20.0</td>\n      <td>1353</td>\n    </tr>\n    <tr>\n      <th>1</th>\n      <td>30.5</td>\n      <td>980</td>\n    </tr>\n    <tr>\n      <th>2</th>\n      <td>35.0</td>\n      <td>817</td>\n    </tr>\n    <tr>\n      <th>3</th>\n      <td>42.5</td>\n      <td>306</td>\n    </tr>\n    <tr>\n      <th>4</th>\n      <td>50.0</td>\n      <td>120</td>\n    </tr>\n    <tr>\n      <th>5</th>\n      <td>54.5</td>\n      <td>89</td>\n    </tr>\n    <tr>\n      <th>6</th>\n      <td>60.0</td>\n      <td>66</td>\n    </tr>\n  </tbody>\n</table>\n</div>"
     },
     "metadata": {},
     "execution_count": 34
    }
   ],
   "source": [
    "demand_dist"
   ]
  },
  {
   "cell_type": "code",
   "execution_count": 35,
   "metadata": {},
   "outputs": [],
   "source": [
    "## Linear Demand "
   ]
  },
  {
   "cell_type": "code",
   "execution_count": 36,
   "metadata": {},
   "outputs": [],
   "source": [
    "# First argument is the independent variable, others are the function parameters\n",
    "def linear_fit(p, a, b):\n",
    "    return a - b * p"
   ]
  },
  {
   "cell_type": "code",
   "execution_count": 37,
   "metadata": {},
   "outputs": [
    {
     "output_type": "execute_result",
     "data": {
      "text/plain": [
       "array([2002.82459249,   35.17528939])"
      ]
     },
     "metadata": {},
     "execution_count": 37
    }
   ],
   "source": [
    "# suggested function parameters (any initial hint you may have)\n",
    "initial_p = [500, 100]\n",
    "\n",
    "# fit curve\n",
    "params, cov = optimize.curve_fit(linear_fit, demand_dist[\"price\"], demand_dist[\"quantity\"], initial_p)\n",
    "\n",
    "# parameters\n",
    "params"
   ]
  },
  {
   "cell_type": "code",
   "execution_count": 38,
   "metadata": {},
   "outputs": [
    {
     "output_type": "display_data",
     "data": {
      "text/plain": "<Figure size 432x288 with 1 Axes>",
      "image/png": "[encoded data removed]"
     },
     "metadata": {}
    }
   ],
   "source": [
    "# Plotting all together to see how it looks\n",
    "\n",
    "a,b = params\n",
    "y_fit = [ linear_fit(p, a, b) for p in demand_dist[\"price\"]]\n",
    "\n",
    "plt.plot(demand_dist[\"price\"], y_fit, color=\"orangered\")\n",
    "plt.scatter( demand_dist[\"price\"], demand_dist[\"quantity\"])\n",
    "plt.xlabel(\"Price (in $)\")\n",
    "plt.ylabel(\"Demand\")\n",
    "plt.show()"
   ]
  },
  {
   "cell_type": "code",
   "execution_count": 39,
   "metadata": {},
   "outputs": [
    {
     "output_type": "stream",
     "name": "stdout",
     "text": [
      "-28509.651603589184\n"
     ]
    }
   ],
   "source": [
    "###OPTIMIZATION###\n",
    "#INITIAL GUESS (USE AVERAGE PRICE)\n",
    "x0 = np.array([45])\n",
    "\n",
    "###OBJECTIVE FUNCTION###\n",
    "def objective_func(p,a=2002.825,b=35.175):\n",
    "    total_revenue=p* (a-b*p)\n",
    "    return  -1 * total_revenue\n",
    "\n",
    "###CONSTRAINTS###\n",
    "def price_constraint1(p):\n",
    "    return p\n",
    "cons = ({'type':'ineq', 'fun': price_constraint1})    \n",
    "\n",
    "###OPTIMIZATION###\n",
    "sol = minimize(objective_func, x0, method='SLSQP', constraints = cons, bounds = [(20., 60.)])\n",
    "print(sol.fun)"
   ]
  },
  {
   "cell_type": "code",
   "execution_count": 42,
   "metadata": {},
   "outputs": [
    {
     "output_type": "stream",
     "name": "stdout",
     "text": [
      "[28.46943783]\n"
     ]
    }
   ],
   "source": [
    "print(sol.x)"
   ]
  },
  {
   "cell_type": "code",
   "execution_count": 43,
   "metadata": {},
   "outputs": [],
   "source": [
    "# First argument is the independent variable, others are the function parameters\n",
    "def constant_elasticity_curve(p, c, d):\n",
    "    return c * (p ** d)"
   ]
  },
  {
   "cell_type": "code",
   "execution_count": 44,
   "metadata": {},
   "outputs": [
    {
     "output_type": "display_data",
     "data": {
      "text/plain": "<Figure size 432x288 with 1 Axes>",
      "image/png": "[encoded data removed]"
     },
     "metadata": {}
    }
   ],
   "source": [
    "# suggested function parameters (any initial hint you may have)\n",
    "initial_p = [5, -2]\n",
    "\n",
    "# fit curve\n",
    "params, cov = optimize.curve_fit(constant_elasticity_curve, demand_dist[\"price\"], demand_dist[\"quantity\"], initial_p)\n",
    "\n",
    "# parameters\n",
    "params\n",
    "\n",
    "# Plotting all together to see how it looks\n",
    "\n",
    "a,b = params\n",
    "y_fit = [ constant_elasticity_curve(p, a, b) for p in demand_dist[\"price\"]]\n",
    "\n",
    "plt.plot(demand_dist[\"price\"], y_fit, color=\"orangered\")\n",
    "plt.scatter( demand_dist[\"price\"], demand_dist[\"quantity\"])\n",
    "plt.xlabel(\"Price (in $)\")\n",
    "plt.ylabel(\"Demand\")\n",
    "plt.show()"
   ]
  },
  {
   "cell_type": "code",
   "execution_count": 45,
   "metadata": {},
   "outputs": [
    {
     "output_type": "execute_result",
     "data": {
      "text/plain": [
       "(254116.16778278846, -1.7210771032908547)"
      ]
     },
     "metadata": {},
     "execution_count": 45
    }
   ],
   "source": [
    "a,b"
   ]
  },
  {
   "cell_type": "code",
   "execution_count": 46,
   "metadata": {},
   "outputs": [
    {
     "output_type": "stream",
     "name": "stdout",
     "text": [
      "-29301.466494264856\n"
     ]
    }
   ],
   "source": [
    "#INITIAL GUESS (USE AVERAGE PRICE)\n",
    "x0 = np.array([35])\n",
    "\n",
    "###OBJECTIVE FUNCTION###\n",
    "def objective(p, c = 254116.16778278846, d= -1.7210771032908547):\n",
    "    total_revenue=p* (c * (p ** d))\n",
    "    return -1 * total_revenue\n",
    "\n",
    "###CONSTRAINTS###\n",
    "def price_constraint1(p):\n",
    "    return p\n",
    "cons = ({'type':'ineq', 'fun': price_constraint1})    \n",
    "\n",
    "\n",
    "###OPTIMIZE###\n",
    "sol = minimize(objective, x0, method='SLSQP', constraints = cons, bounds = [(20, 60)])\n",
    "\n",
    "print(sol.fun)"
   ]
  },
  {
   "cell_type": "code",
   "execution_count": 47,
   "metadata": {},
   "outputs": [
    {
     "output_type": "stream",
     "name": "stdout",
     "text": [
      "[20.]\n"
     ]
    }
   ],
   "source": [
    "print(sol.x)"
   ]
  },
  {
   "cell_type": "markdown",
   "metadata": {},
   "source": [
    "## Segmentation Approach"
   ]
  },
  {
   "cell_type": "code",
   "execution_count": 48,
   "metadata": {},
   "outputs": [
    {
     "output_type": "stream",
     "name": "stdout",
     "text": [
      "Revenue of Age_Group 18-29:   $23860\nRevenue of Age_Group 30-39:   $37606.5\nRevenue of Age_Group 40-49:   $4849.5\nRevenue of Age_Group Over 50: $10217.5\n"
     ]
    }
   ],
   "source": [
    "print('Revenue of Age_Group 18-29:   $'+str(Rev_1829))\n",
    "print('Revenue of Age_Group 30-39:   $'+str(Rev_3039))\n",
    "print('Revenue of Age_Group 40-49:   $'+str(Rev_4049))\n",
    "print('Revenue of Age_Group Over 50: $'+str(Rev_over50))"
   ]
  },
  {
   "cell_type": "code",
   "execution_count": 49,
   "metadata": {},
   "outputs": [],
   "source": [
    "#Divide data based on age groups\n",
    "df1=df[df[\"age\"]<=29]\n",
    "df2=df[(df[\"age\"]>=30) & (df[\"age\"]<=39)]\n",
    "df3=df[(df[\"age\"]>=40) & (df[\"age\"]<=49)]\n",
    "df4=df[(df[\"age\"]>=50)]"
   ]
  },
  {
   "cell_type": "code",
   "execution_count": 50,
   "metadata": {},
   "outputs": [],
   "source": [
    "\n",
    "demand_dist1 = df1.groupby('price')['age'].count().reset_index(level='price', name='age')\n",
    "demand_dist1.rename(columns = {'age' : 'quantity'}, inplace = True)\n",
    "\n",
    "demand_dist2 = df2.groupby('price')['age'].count().reset_index(level='price', name='age')\n",
    "demand_dist2.rename(columns = {'age' : 'quantity'}, inplace = True)\n",
    "\n",
    "demand_dist3 = df3.groupby('price')['age'].count().reset_index(level='price', name='age')\n",
    "demand_dist3.rename(columns = {'age' : 'quantity'}, inplace = True)\n",
    "\n",
    "demand_dist4 = df4.groupby('price')['age'].count().reset_index(level='price', name='age')\n",
    "demand_dist4.rename(columns = {'age' : 'quantity'}, inplace = True)"
   ]
  },
  {
   "cell_type": "code",
   "execution_count": 51,
   "metadata": {},
   "outputs": [
    {
     "output_type": "display_data",
     "data": {
      "text/plain": "<Figure size 432x288 with 1 Axes>",
      "image/png": "[encoded data removed]"
     },
     "metadata": {}
    }
   ],
   "source": [
    "# Scatter plot\n",
    "# Price and demand\n",
    "plt.scatter(demand_dist1[\"price\"], demand_dist1[\"quantity\"])\n",
    "plt.xlabel(\"Price (in $)\")\n",
    "plt.ylabel(\"Demand\")\n",
    "plt.show()"
   ]
  },
  {
   "cell_type": "code",
   "execution_count": 52,
   "metadata": {},
   "outputs": [
    {
     "output_type": "display_data",
     "data": {
      "text/plain": "<Figure size 432x288 with 1 Axes>",
      "image/png": "[encoded data removed]"
     },
     "metadata": {}
    }
   ],
   "source": [
    "# Scatter plot\n",
    "# Price and demand\n",
    "plt.scatter(demand_dist2[\"price\"], demand_dist2[\"quantity\"])\n",
    "plt.xlabel(\"Price (in $)\")\n",
    "plt.ylabel(\"Demand\")\n",
    "plt.show()"
   ]
  },
  {
   "cell_type": "code",
   "execution_count": 53,
   "metadata": {},
   "outputs": [
    {
     "output_type": "display_data",
     "data": {
      "text/plain": "<Figure size 432x288 with 1 Axes>",
      "image/png": "[encoded data removed]"
     },
     "metadata": {}
    }
   ],
   "source": [
    "# Scatter plot\n",
    "# Price and demand\n",
    "plt.scatter(demand_dist3[\"price\"], demand_dist3[\"quantity\"])\n",
    "plt.xlabel(\"Price (in $)\")\n",
    "plt.ylabel(\"Demand\")\n",
    "plt.show()"
   ]
  },
  {
   "cell_type": "code",
   "execution_count": 54,
   "metadata": {},
   "outputs": [
    {
     "output_type": "display_data",
     "data": {
      "text/plain": "<Figure size 432x288 with 1 Axes>",
      "image/png": "[encoded data removed]"
     },
     "metadata": {}
    }
   ],
   "source": [
    "# Scatter plot\n",
    "# Price and demand\n",
    "plt.scatter(demand_dist4[\"price\"], demand_dist4[\"quantity\"])\n",
    "plt.xlabel(\"Price (in $)\")\n",
    "plt.ylabel(\"Demand\")\n",
    "plt.show()"
   ]
  },
  {
   "cell_type": "markdown",
   "metadata": {},
   "source": [
    "### Age 18-29"
   ]
  },
  {
   "cell_type": "code",
   "execution_count": 55,
   "metadata": {},
   "outputs": [],
   "source": [
    "# First argument is the independent variable, others are the function parameters\n",
    "def constant_elasticity_curve(p, c, d):\n",
    "    return c * (p ** d)"
   ]
  },
  {
   "cell_type": "code",
   "execution_count": 56,
   "metadata": {},
   "outputs": [
    {
     "output_type": "execute_result",
     "data": {
      "text/plain": [
       "array([ 7.17966256e+05, -2.35109528e+00])"
      ]
     },
     "metadata": {},
     "execution_count": 56
    }
   ],
   "source": [
    "# suggested function parameters (any initial hint you may have)\n",
    "initial_p = [5, -2]\n",
    "\n",
    "# fit curve\n",
    "params, cov = optimize.curve_fit(constant_elasticity_curve, demand_dist1[\"price\"], demand_dist1[\"quantity\"], initial_p)\n",
    "\n",
    "# parameters\n",
    "params"
   ]
  },
  {
   "cell_type": "code",
   "execution_count": 57,
   "metadata": {},
   "outputs": [
    {
     "output_type": "display_data",
     "data": {
      "text/plain": "<Figure size 432x288 with 1 Axes>",
      "image/png": "[encoded data removed]"
     },
     "metadata": {}
    }
   ],
   "source": [
    "# Plotting all together to see how it looks\n",
    "\n",
    "a,b = params\n",
    "y_fit = [ constant_elasticity_curve(p, a, b) for p in demand_dist1[\"price\"]]\n",
    "\n",
    "plt.plot(demand_dist1[\"price\"], y_fit, color=\"orangered\")\n",
    "plt.scatter( demand_dist1[\"price\"], demand_dist1[\"quantity\"])\n",
    "plt.xlabel(\"Price (in $)\")\n",
    "plt.ylabel(\"Demand\")\n",
    "plt.show()"
   ]
  },
  {
   "cell_type": "code",
   "execution_count": 58,
   "metadata": {},
   "outputs": [
    {
     "output_type": "execute_result",
     "data": {
      "text/plain": [
       "(717966.2558764123, -2.3510952805975993)"
      ]
     },
     "metadata": {},
     "execution_count": 58
    }
   ],
   "source": [
    "a,b"
   ]
  },
  {
   "cell_type": "code",
   "execution_count": 59,
   "metadata": {},
   "outputs": [
    {
     "output_type": "stream",
     "name": "stdout",
     "text": [
      "-12539.74040713833\n"
     ]
    }
   ],
   "source": [
    "#INITIAL GUESS (USE AVERAGE PRICE)\n",
    "x0 = np.array([35])\n",
    "\n",
    "###OBJECTIVE FUNCTION###\n",
    "def objective(p, c =717966.2558764123 , d= -2.3510952805975993):\n",
    "    total_revenue=p* (c * (p ** d))\n",
    "    return -1 * total_revenue\n",
    "\n",
    "###CONSTRAINTS###\n",
    "def price_constraint1(p):\n",
    "    return p\n",
    "cons = ({'type':'ineq', 'fun': price_constraint1})    \n",
    "\n",
    "\n",
    "###OPTIMIZE###\n",
    "sol = minimize(objective, x0, method='SLSQP', constraints = cons, bounds = [(20, 60)])\n",
    "\n",
    "print(sol.fun)"
   ]
  },
  {
   "cell_type": "code",
   "execution_count": 62,
   "metadata": {},
   "outputs": [
    {
     "output_type": "execute_result",
     "data": {
      "text/plain": [
       "12539.740407378158"
      ]
     },
     "metadata": {},
     "execution_count": 62
    }
   ],
   "source": [
    "c =717966.2558764123 \n",
    "d= -2.3510952805975993\n",
    "p=20\n",
    "p*(c * (p ** d))"
   ]
  },
  {
   "cell_type": "code",
   "execution_count": 63,
   "metadata": {},
   "outputs": [
    {
     "output_type": "stream",
     "name": "stdout",
     "text": [
      "[20.]\n"
     ]
    }
   ],
   "source": [
    "print(sol.x)"
   ]
  },
  {
   "cell_type": "markdown",
   "metadata": {},
   "source": [
    "### Age 30-39"
   ]
  },
  {
   "cell_type": "code",
   "execution_count": 64,
   "metadata": {},
   "outputs": [],
   "source": [
    "# First argument is the independent variable, others are the function parameters\n",
    "def constant_elasticity_curve(p, c, d):\n",
    "    return c * (p ** d) "
   ]
  },
  {
   "cell_type": "code",
   "execution_count": 65,
   "metadata": {},
   "outputs": [
    {
     "output_type": "execute_result",
     "data": {
      "text/plain": [
       "array([ 8.15512662e+04, -1.59207974e+00])"
      ]
     },
     "metadata": {},
     "execution_count": 65
    }
   ],
   "source": [
    "# suggested function parameters (any initial hint you may have)\n",
    "initial_p = [1,3]\n",
    "\n",
    "# fit curve\n",
    "params, cov = optimize.curve_fit(constant_elasticity_curve, demand_dist2[\"price\"], demand_dist2[\"quantity\"], initial_p)\n",
    "\n",
    "# parameters\n",
    "params"
   ]
  },
  {
   "cell_type": "code",
   "execution_count": 66,
   "metadata": {},
   "outputs": [
    {
     "output_type": "display_data",
     "data": {
      "text/plain": "<Figure size 432x288 with 1 Axes>",
      "image/png": "[encoded data removed]"
     },
     "metadata": {}
    }
   ],
   "source": [
    "# Plotting all together to see how it looks\n",
    "\n",
    "c,d= params\n",
    "y_fit = [ constant_elasticity_curve(p, c, d) for p in demand_dist2[\"price\"]]\n",
    "\n",
    "plt.plot(demand_dist2[\"price\"], y_fit, color=\"orangered\")\n",
    "plt.scatter( demand_dist2[\"price\"], demand_dist2[\"quantity\"])\n",
    "plt.xlabel(\"Price (in $)\")\n",
    "plt.ylabel(\"Demand\")\n",
    "plt.show()"
   ]
  },
  {
   "cell_type": "code",
   "execution_count": 67,
   "metadata": {},
   "outputs": [
    {
     "output_type": "execute_result",
     "data": {
      "text/plain": [
       "(81551.26617348612, -1.5920797448059414)"
      ]
     },
     "metadata": {},
     "execution_count": 67
    }
   ],
   "source": [
    "c,d"
   ]
  },
  {
   "cell_type": "code",
   "execution_count": 68,
   "metadata": {},
   "outputs": [
    {
     "output_type": "stream",
     "name": "stdout",
     "text": [
      "-13839.428201518558\n"
     ]
    }
   ],
   "source": [
    "#INITIAL GUESS (USE AVERAGE PRICE)\n",
    "x0 = np.array([35])\n",
    "\n",
    "###OBJECTIVE FUNCTION###\n",
    "#Make Revenue Negative so Minimizing means Maximizing Revenue\n",
    "def objective(p, c = 81553.70431883112, d= -1.5920889971291152):\n",
    "    total_revenue=p* (c * (p ** d))\n",
    "    return -1 * total_revenue\n",
    "\n",
    "###CONSTRAINTS###\n",
    "def price_constraint1(p):\n",
    "    return p\n",
    "cons = ({'type':'ineq', 'fun': price_constraint1})    \n",
    "\n",
    "\n",
    "###OPTIMIZE###\n",
    "sol = minimize(objective, x0, method='SLSQP', constraints = cons, bounds = [(20, 60)])\n",
    "\n",
    "print(sol.fun)"
   ]
  },
  {
   "cell_type": "code",
   "execution_count": 69,
   "metadata": {},
   "outputs": [
    {
     "output_type": "stream",
     "name": "stdout",
     "text": [
      "[20.]\n"
     ]
    }
   ],
   "source": [
    "print(sol.x)"
   ]
  },
  {
   "cell_type": "code",
   "execution_count": 70,
   "metadata": {},
   "outputs": [
    {
     "output_type": "execute_result",
     "data": {
      "text/plain": [
       "691.9714100759279"
      ]
     },
     "metadata": {},
     "execution_count": 70
    }
   ],
   "source": [
    "# Avg price = 45\n",
    "c = 81553.70431883112\n",
    "d = -1.5920889971291152\n",
    "p = 20\n",
    "c * (p ** d)"
   ]
  },
  {
   "cell_type": "markdown",
   "metadata": {},
   "source": [
    "### Age Group 40-49"
   ]
  },
  {
   "cell_type": "code",
   "execution_count": 72,
   "metadata": {},
   "outputs": [],
   "source": [
    "# First argument is the independent variable, others are the function parameters\n",
    "def logit_curve(p,c,a,b):\n",
    "    return c*np.exp(-(a+b*p))/(1+np.exp(-(a+b*p)))\n"
   ]
  },
  {
   "cell_type": "code",
   "execution_count": 73,
   "metadata": {},
   "outputs": [
    {
     "output_type": "stream",
     "name": "stderr",
     "text": [
      "C:\\Users\\buttb\\AppData\\Local\\Packages\\PythonSoftwareFoundation.Python.3.8_qbz5n2kfra8p0\\LocalCache\\local-packages\\Python38\\site-packages\\pandas\\core\\arraylike.py:358: RuntimeWarning: overflow encountered in exp\n  result = getattr(ufunc, method)(*inputs, **kwargs)\n"
     ]
    },
    {
     "output_type": "execute_result",
     "data": {
      "text/plain": [
       "array([ 63.66666721, -98.83733011,   2.34061151])"
      ]
     },
     "metadata": {},
     "execution_count": 73
    }
   ],
   "source": [
    "# suggested function parameters (any initial hint you may have)\n",
    "initial_p = [1, -2.5, -0.5]\n",
    "\n",
    "# fit curve\n",
    "params, cov = optimize.curve_fit(logit_curve, demand_dist3[\"price\"], demand_dist3[\"quantity\"], initial_p)\n",
    "\n",
    "# parameters\n",
    "params"
   ]
  },
  {
   "cell_type": "code",
   "execution_count": 74,
   "metadata": {},
   "outputs": [
    {
     "output_type": "display_data",
     "data": {
      "text/plain": "<Figure size 432x288 with 1 Axes>",
      "image/png": "[encoded data removed]"
     },
     "metadata": {}
    }
   ],
   "source": [
    "# Plotting all together to see how it looks\n",
    "\n",
    "c,a,b= params\n",
    "y_fit = [ logit_curve(p, c, a, b) for p in demand_dist3[\"price\"]]\n",
    "\n",
    "plt.plot(demand_dist3[\"price\"], y_fit, color=\"orangered\")\n",
    "plt.scatter( demand_dist3[\"price\"], demand_dist3[\"quantity\"])\n",
    "plt.xlabel(\"Price (in $)\")\n",
    "plt.ylabel(\"Demand\")\n",
    "plt.show()"
   ]
  },
  {
   "cell_type": "code",
   "execution_count": 75,
   "metadata": {},
   "outputs": [
    {
     "output_type": "execute_result",
     "data": {
      "text/plain": [
       "(63.666667210242764, -98.83733011479555, 2.3406115089787387)"
      ]
     },
     "metadata": {},
     "execution_count": 75
    }
   ],
   "source": [
    "c,a,b"
   ]
  },
  {
   "cell_type": "code",
   "execution_count": 76,
   "metadata": {},
   "outputs": [
    {
     "output_type": "stream",
     "name": "stdout",
     "text": [
      "-2537.8817221941695\n"
     ]
    }
   ],
   "source": [
    "#INITIAL GUESS (USE AVERAGE PRICE)\n",
    "x0 = np.array([35])\n",
    "\n",
    "###OBJECTIVE FUNCTION###\n",
    "#Make Revenue Negative so Minimizing means Maximizing Revenue\n",
    "def objective(p, c = 63.666667210242764, a=-98.83733011479555,b = 2.3406115089787387):\n",
    "    total_revenue=p * c*np.exp(-(a+b*p))/(1+np.exp(-(a+b*p)))\n",
    "    return -1 * total_revenue\n",
    "\n",
    "###CONSTRAINTS###\n",
    "def price_constraint1(p):\n",
    "    return p\n",
    "cons = ({'type':'ineq', 'fun': price_constraint1})    \n",
    "\n",
    "\n",
    "###OPTIMIZE###\n",
    "sol = minimize(objective, x0, method='SLSQP', constraints = cons, bounds = [(20, 60)])\n",
    "\n",
    "print(sol.fun)"
   ]
  },
  {
   "cell_type": "code",
   "execution_count": 77,
   "metadata": {},
   "outputs": [
    {
     "output_type": "stream",
     "name": "stdout",
     "text": [
      "[40.28918054]\n"
     ]
    }
   ],
   "source": [
    "print(sol.x)"
   ]
  },
  {
   "cell_type": "markdown",
   "metadata": {},
   "source": [
    "### Age Group >50"
   ]
  },
  {
   "cell_type": "code",
   "execution_count": 78,
   "metadata": {},
   "outputs": [],
   "source": [
    "# First argument is the independent variable, others are the function parameters\n",
    "def linear_fit(p, a, b):\n",
    "    return a - b * p"
   ]
  },
  {
   "cell_type": "code",
   "execution_count": 79,
   "metadata": {},
   "outputs": [
    {
     "output_type": "execute_result",
     "data": {
      "text/plain": [
       "array([96.97670086,  0.89516891])"
      ]
     },
     "metadata": {},
     "execution_count": 79
    }
   ],
   "source": [
    "# suggested function parameters (any initial hint you may have)\n",
    "initial_p = [60, -390.14661787]\n",
    "\n",
    "# fit curve\n",
    "params, cov = optimize.curve_fit(linear_fit, demand_dist4[\"price\"], demand_dist4[\"quantity\"], initial_p)\n",
    "\n",
    "# parameters\n",
    "params"
   ]
  },
  {
   "cell_type": "code",
   "execution_count": 80,
   "metadata": {},
   "outputs": [
    {
     "output_type": "display_data",
     "data": {
      "text/plain": "<Figure size 432x288 with 1 Axes>",
      "image/png": "[encoded data removed]"
     },
     "metadata": {}
    }
   ],
   "source": [
    "# Plotting all together to see how it looks\n",
    "\n",
    "a,b= params\n",
    "y_fit = [ linear_fit(p, a, b) for p in demand_dist4[\"price\"]]\n",
    "\n",
    "plt.plot(demand_dist4[\"price\"], y_fit, color=\"orangered\")\n",
    "plt.scatter( demand_dist4[\"price\"], demand_dist4[\"quantity\"])\n",
    "plt.xlabel(\"Price (in $)\")\n",
    "plt.ylabel(\"Demand\")\n",
    "plt.show()"
   ]
  },
  {
   "cell_type": "code",
   "execution_count": 81,
   "metadata": {},
   "outputs": [
    {
     "output_type": "execute_result",
     "data": {
      "text/plain": [
       "(96.97670085848625, 0.8951689094338544)"
      ]
     },
     "metadata": {},
     "execution_count": 81
    }
   ],
   "source": [
    "a,b"
   ]
  },
  {
   "cell_type": "code",
   "execution_count": 82,
   "metadata": {},
   "outputs": [
    {
     "output_type": "stream",
     "name": "stdout",
     "text": [
      "-2626.454183754005\n"
     ]
    }
   ],
   "source": [
    "###OBJECTIVE FUNCTION###\n",
    "def objective_func(p,a=96.97670085848625,b=0.8951689094338544):\n",
    "    total_revenue=p* (a-b*p)\n",
    "    return  -1 * total_revenue\n",
    "\n",
    "###CONSTRAINTS###\n",
    "def price_constraint1(p):\n",
    "    return p\n",
    "cons = ({'type':'ineq', 'fun': price_constraint1})    \n",
    "\n",
    "###OPTIMIZATION###\n",
    "sol = minimize(objective_func, x0, method='SLSQP', constraints = cons, bounds = [(20., 60.)])\n",
    "print(sol.fun)"
   ]
  },
  {
   "cell_type": "code",
   "execution_count": 83,
   "metadata": {},
   "outputs": [
    {
     "output_type": "stream",
     "name": "stdout",
     "text": [
      "[54.16669962]\n"
     ]
    }
   ],
   "source": [
    "print(sol.x)"
   ]
  },
  {
   "cell_type": "markdown",
   "metadata": {},
   "source": [
    "# C. Online Vouchers"
   ]
  },
  {
   "cell_type": "code",
   "execution_count": 84,
   "metadata": {},
   "outputs": [],
   "source": [
    "#Function for Demand\n",
    "def linear_fit(p, a, b):\n",
    "    return a - b * p"
   ]
  },
  {
   "cell_type": "code",
   "execution_count": 85,
   "metadata": {},
   "outputs": [
    {
     "output_type": "execute_result",
     "data": {
      "text/plain": [
       "array([2002.82459249,   35.17528939])"
      ]
     },
     "metadata": {},
     "execution_count": 85
    }
   ],
   "source": [
    "# suggested function parameters (any initial hint you may have)\n",
    "initial_p = [500, 100]\n",
    "\n",
    "# fit curve\n",
    "params, cov = optimize.curve_fit(linear_fit, demand_dist[\"price\"], demand_dist[\"quantity\"], initial_p)\n",
    "\n",
    "# parameters\n",
    "params"
   ]
  },
  {
   "cell_type": "markdown",
   "metadata": {},
   "source": [
    "## Sets"
   ]
  },
  {
   "cell_type": "code",
   "execution_count": 92,
   "metadata": {},
   "outputs": [],
   "source": [
    "# Number of Customers\n",
    "customers = list(range(1, len(df)+1))\n",
    "numcustomers = len(customers)\n",
    "\n",
    "# Number of Weeks in a Year\n",
    "weeks = list(range(1,53))\n",
    "numweeks = len(weeks)"
   ]
  },
  {
   "cell_type": "markdown",
   "metadata": {},
   "source": [
    "## Parameters"
   ]
  },
  {
   "cell_type": "code",
   "execution_count": 93,
   "metadata": {},
   "outputs": [],
   "source": [
    "#Use Optimal Price From Part 1\n",
    "optimal_price = 28.46943783\n",
    "#Set Voucher Discount\n",
    "voucher = 0.1\n",
    "#Set Summar or Winter Discount\n",
    "summer_winter_sale = 0.15"
   ]
  },
  {
   "cell_type": "markdown",
   "metadata": {},
   "source": [
    "## Variables"
   ]
  },
  {
   "cell_type": "code",
   "execution_count": 96,
   "metadata": {},
   "outputs": [],
   "source": [
    "#Apply Discount or Not\n",
    "yvar = pulp.LpVariable.dict(\"Vouncher\", (customers, weeks), cat=pulp.LpBinary)\n",
    "#Apply Summer or Winter Discount or Not\n",
    "svar = pulp.LpVariable.dict(\"Summer/Winter\", (customers, weeks), cat=pulp.LpBinary)\n",
    "#Apply No Voucher\n",
    "xvar = pulp.LpVariable.dict(\"Regular\", (customers, weeks), cat=pulp.LpBinary)"
   ]
  },
  {
   "cell_type": "code",
   "execution_count": 97,
   "metadata": {},
   "outputs": [],
   "source": [
    "model = pulp.LpProblem(name=\"DiscountModel\", sense=pulp.LpMaximize)"
   ]
  },
  {
   "cell_type": "markdown",
   "metadata": {},
   "source": [
    "## Constraints"
   ]
  },
  {
   "cell_type": "code",
   "execution_count": 98,
   "metadata": {},
   "outputs": [],
   "source": [
    "# Summer and Winter Vouchers only Received Once\n",
    "#You can only have one winter and summer voucher\n",
    "for i in customers:\n",
    "    model += pulp.lpSum( [svar[(i,t)] for t in weeks] ) == 2  \n",
    "\n",
    "# You can only receive a voucher or a summer/winter voucher\n",
    "for i in customers:\n",
    "    for t in weeks:\n",
    "        model += yvar[(i,t)] + svar[(i,t)] <= 1  \n",
    "   "
   ]
  },
  {
   "cell_type": "code",
   "execution_count": 99,
   "metadata": {},
   "outputs": [],
   "source": [
    "# Cannot give two consecutive vouchers for the same customer. Must be atleast three weeks apart\n",
    "for i in customers:\n",
    "    for t in weeks[:49]:\n",
    "        #Set next three t values must not be greater than 1 for both summer and normal vouchers\n",
    "        model += yvar[(i,t)] + yvar[(i,t+1)] + yvar[(i,t+2)] + svar[(i,t)] + svar[(i,t+1)] + svar[(i,t+2)] <= 1 \n",
    "        \n",
    "# Summer/Winter Vouchers\n",
    "# Week 24-32 (June to August)\n",
    "# Week 48-52 & Week 1-8 (December to February)\n",
    "for i in customers:\n",
    "    for t in weeks:\n",
    "        #if the t is not in the summer or winter months then should equal 0\n",
    "        if t not in list(range(1,9))+ list(range(48,53))  + list(range(24, 33)):          #Set voucher to zero  \n",
    "            model += svar[(i,t)] == 0 \n"
   ]
  },
  {
   "cell_type": "code",
   "execution_count": 100,
   "metadata": {},
   "outputs": [],
   "source": [
    "#If both voucher and summer voucher is zero then regular price\n",
    "for i in customers:\n",
    "    for t in weeks:\n",
    "        if (svar[(i,t)] ==0 and yvar[(i,t)]==0):\n",
    "            model += xvar[(i,t)] == 1\n",
    "        else:\n",
    "            #if one of the vouchers is one then no regular price for that customer at time t\n",
    "            model += xvar[(i,t)] == 0\n",
    "\n",
    "#Voucher Restrictions\n",
    "for i in customers:\n",
    "    #Must provide atleast five vouchers to not feel abandoned\n",
    "    model += pulp.lpSum( [yvar[(i,t)] + svar[(i,t)] for t in weeks] ) >= 5\n",
    "    #Must not provide more than 24 vouchers in a given year\n",
    "    model += pulp.lpSum( [yvar[(i,t)] + svar[(i,t)] for t in weeks] ) <= 24 "
   ]
  },
  {
   "cell_type": "markdown",
   "metadata": {},
   "source": [
    "## Objective Function"
   ]
  },
  {
   "cell_type": "code",
   "execution_count": 106,
   "metadata": {},
   "outputs": [
    {
     "output_type": "stream",
     "name": "stderr",
     "text": [
      "C:\\Users\\buttb\\AppData\\Local\\Packages\\PythonSoftwareFoundation.Python.3.8_qbz5n2kfra8p0\\LocalCache\\local-packages\\Python38\\site-packages\\pulp\\pulp.py:1537: UserWarning: Overwriting previously set objective.\n  warnings.warn(\"Overwriting previously set objective.\")\n"
     ]
    }
   ],
   "source": [
    "#Total Revenue using optimal price from Part 1 and for entire year for every customer\n",
    "\n",
    "obj = pulp.lpSum( [yvar[(i,t)] for t in weeks for i in customers] ) * linear_fit(optimal_price*(1-voucher), *params) / numcustomers + pulp.lpSum( [xvar[(i,t)] for t in weeks for i in customers] ) * linear_fit(optimal_price, *params) / numcustomers + pulp.lpSum( [xvar[(i,t)] for t in weeks for i in customers] ) * linear_fit(optimal_price*(1-summer_winter_sale), *params) / numcustomers\n",
    "\n",
    "model += obj"
   ]
  },
  {
   "cell_type": "code",
   "execution_count": 105,
   "metadata": {},
   "outputs": [
    {
     "output_type": "stream",
     "name": "stdout",
     "text": [
      "aa\n"
     ]
    }
   ],
   "source": [
    "# yvar\n",
    "pulp.lpSum( [yvar[(i,t)] for t in weeks for i in customers] ) * linear_fit(optimal_price*(1-voucher), *params) / numcustomers\n",
    "\n",
    "# xvar\n",
    "pulp.lpSum( [xvar[(i,t)] for t in weeks for i in customers] ) * linear_fit(optimal_price, *params) / numcustomers\n",
    "\n",
    "# svar\n",
    "pulp.lpSum( [xvar[(i,t)] for t in weeks for i in customers] ) * linear_fit(optimal_price*(1-summer_winter_sale), *params) / numcustomers\n",
    "\n",
    "print(\"aa\")"
   ]
  },
  {
   "cell_type": "code",
   "execution_count": 90,
   "metadata": {},
   "outputs": [
    {
     "name": "stdout",
     "output_type": "stream",
     "text": "Status: Optimal\n"
    }
   ],
   "source": [
    "model.solve()\n",
    "# markdownModel.solve( pulp.PULP_CBC_CMD(timeLimit=300) )\n",
    "print(\"Status:\", pulp.LpStatus[model.status])"
   ]
  },
  {
   "cell_type": "code",
   "execution_count": 91,
   "metadata": {},
   "outputs": [
    {
     "name": "stdout",
     "output_type": "stream",
     "text": "Total Revenue: 129581.82007337682\n"
    }
   ],
   "source": [
    "# Total Revenue\n",
    "totalRev = pulp.value(model.objective)\n",
    "print(\"Total Revenue: \" + str(totalRev))"
   ]
  },
  {
   "cell_type": "code",
   "execution_count": 94,
   "metadata": {},
   "outputs": [
    {
     "name": "stdout",
     "output_type": "stream",
     "text": "Week 1\n\tVoucher for 3706.0 customers\n\tSummer/Winter voucher for 4.0 customers\nWeek 2\n\tVoucher for 0.0 customers\n\tSummer/Winter voucher for 1.0 customers\nWeek 3\n\tVoucher for 20.0 customers\n\tSummer/Winter voucher for 0.0 customers\nWeek 4\n\tVoucher for 1429.0 customers\n\tSummer/Winter voucher for 1249.0 customers\nWeek 5\n\tVoucher for 561.0 customers\n\tSummer/Winter voucher for 206.0 customers\nWeek 6\n\tVoucher for 241.0 customers\n\tSummer/Winter voucher for 45.0 customers\nWeek 7\n\tVoucher for 1225.0 customers\n\tSummer/Winter voucher for 950.0 customers\nWeek 8\n\tVoucher for 601.0 customers\n\tSummer/Winter voucher for 338.0 customers\nWeek 9\n\tVoucher for 617.0 customers\n\tSummer/Winter voucher for 0.0 customers\nWeek 10\n\tVoucher for 1963.0 customers\n\tSummer/Winter voucher for 0.0 customers\nWeek 11\n\tVoucher for 1137.0 customers\n\tSummer/Winter voucher for 0.0 customers\nWeek 12\n\tVoucher for 631.0 customers\n\tSummer/Winter voucher for 0.0 customers\nWeek 13\n\tVoucher for 1792.0 customers\n\tSummer/Winter voucher for 0.0 customers\nWeek 14\n\tVoucher for 1301.0 customers\n\tSummer/Winter voucher for 0.0 customers\nWeek 15\n\tVoucher for 638.0 customers\n\tSummer/Winter voucher for 0.0 customers\nWeek 16\n\tVoucher for 1637.0 customers\n\tSummer/Winter voucher for 0.0 customers\nWeek 17\n\tVoucher for 1440.0 customers\n\tSummer/Winter voucher for 0.0 customers\nWeek 18\n\tVoucher for 654.0 customers\n\tSummer/Winter voucher for 0.0 customers\nWeek 19\n\tVoucher for 1505.0 customers\n\tSummer/Winter voucher for 0.0 customers\nWeek 20\n\tVoucher for 1554.0 customers\n\tSummer/Winter voucher for 0.0 customers\nWeek 21\n\tVoucher for 672.0 customers\n\tSummer/Winter voucher for 0.0 customers\nWeek 22\n\tVoucher for 1349.0 customers\n\tSummer/Winter voucher for 0.0 customers\nWeek 23\n\tVoucher for 1688.0 customers\n\tSummer/Winter voucher for 0.0 customers\nWeek 24\n\tVoucher for 478.0 customers\n\tSummer/Winter voucher for 216.0 customers\nWeek 25\n\tVoucher for 692.0 customers\n\tSummer/Winter voucher for 427.0 customers\nWeek 26\n\tVoucher for 943.0 customers\n\tSummer/Winter voucher for 544.0 customers\nWeek 27\n\tVoucher for 689.0 customers\n\tSummer/Winter voucher for 436.0 customers\nWeek 28\n\tVoucher for 555.0 customers\n\tSummer/Winter voucher for 318.0 customers\nWeek 29\n\tVoucher for 803.0 customers\n\tSummer/Winter voucher for 499.0 customers\nWeek 30\n\tVoucher for 911.0 customers\n\tSummer/Winter voucher for 645.0 customers\nWeek 31\n\tVoucher for 457.0 customers\n\tSummer/Winter voucher for 170.0 customers\nWeek 32\n\tVoucher for 621.0 customers\n\tSummer/Winter voucher for 373.0 customers\nWeek 33\n\tVoucher for 2110.0 customers\n\tSummer/Winter voucher for 0.0 customers\nWeek 34\n\tVoucher for 523.0 customers\n\tSummer/Winter voucher for 0.0 customers\nWeek 35\n\tVoucher for 1077.0 customers\n\tSummer/Winter voucher for 0.0 customers\nWeek 36\n\tVoucher for 2131.0 customers\n\tSummer/Winter voucher for 0.0 customers\nWeek 37\n\tVoucher for 443.0 customers\n\tSummer/Winter voucher for 0.0 customers\nWeek 38\n\tVoucher for 1147.0 customers\n\tSummer/Winter voucher for 0.0 customers\nWeek 39\n\tVoucher for 2141.0 customers\n\tSummer/Winter voucher for 0.0 customers\nWeek 40\n\tVoucher for 375.0 customers\n\tSummer/Winter voucher for 0.0 customers\nWeek 41\n\tVoucher for 1193.0 customers\n\tSummer/Winter voucher for 0.0 customers\nWeek 42\n\tVoucher for 2163.0 customers\n\tSummer/Winter voucher for 0.0 customers\nWeek 43\n\tVoucher for 292.0 customers\n\tSummer/Winter voucher for 0.0 customers\nWeek 44\n\tVoucher for 1258.0 customers\n\tSummer/Winter voucher for 0.0 customers\nWeek 45\n\tVoucher for 2181.0 customers\n\tSummer/Winter voucher for 0.0 customers\nWeek 46\n\tVoucher for 201.0 customers\n\tSummer/Winter voucher for 0.0 customers\nWeek 47\n\tVoucher for 1318.0 customers\n\tSummer/Winter voucher for 0.0 customers\nWeek 48\n\tVoucher for 1174.0 customers\n\tSummer/Winter voucher for 1038.0 customers\nWeek 49\n\tVoucher for 18.0 customers\n\tSummer/Winter voucher for 0.0 customers\nWeek 50\n\tVoucher for 0.0 customers\n\tSummer/Winter voucher for 0.0 customers\nWeek 51\n\tVoucher for 3711.0 customers\n\tSummer/Winter voucher for 2.0 customers\nWeek 52\n\tVoucher for 3730.0 customers\n\tSummer/Winter voucher for 1.0 customers\n"
    }
   ],
   "source": [
    "# Print solution\n",
    "for t in weeks:\n",
    "    print(\"Week \" + str(t)) \n",
    "    n_voucher = 0\n",
    "    n_summer_winter = 0    \n",
    "    for i in customers:\n",
    "        n_voucher = n_voucher + yvar[(i,t)].varValue\n",
    "        n_summer_winter = n_summer_winter + svar[(i,t)].varValue\n",
    "    \n",
    "    #if n_voucher > 0:\n",
    "    print(\"\\tVoucher for \" + str(n_voucher) + \" customers\")\n",
    "    #if n_summer_winter > 0:\n",
    "    print(\"\\tSummer/Winter voucher for \" + str(n_summer_winter) + \" customers\")"
   ]
  },
  {
   "cell_type": "markdown",
   "metadata": {},
   "source": [
    "## Changing Discount"
   ]
  },
  {
   "cell_type": "code",
   "execution_count": 104,
   "metadata": {},
   "outputs": [],
   "source": [
    "optimal_price = 28.46943783\n",
    "voucher = 0.2\n",
    "summer_winter_sale = 0.25"
   ]
  },
  {
   "cell_type": "code",
   "execution_count": 107,
   "metadata": {},
   "outputs": [
    {
     "output_type": "stream",
     "name": "stdout",
     "text": [
      "Status: Optimal\n"
     ]
    }
   ],
   "source": [
    "model.solve()\n",
    "# markdownModel.solve( pulp.PULP_CBC_CMD(timeLimit=300) )\n",
    "print(\"Status:\", pulp.LpStatus[model.status])"
   ]
  },
  {
   "cell_type": "code",
   "execution_count": 110,
   "metadata": {},
   "outputs": [
    {
     "output_type": "stream",
     "name": "stdout",
     "text": [
      "Total Revenue: 136391.4809322179\n"
     ]
    }
   ],
   "source": [
    "# Total Revenue\n",
    "totalRev = pulp.value(model.objective)\n",
    "print(\"Total Revenue: \" + str(totalRev))"
   ]
  },
  {
   "cell_type": "code",
   "execution_count": 109,
   "metadata": {},
   "outputs": [
    {
     "output_type": "stream",
     "name": "stdout",
     "text": [
      "Week 1\n",
      "\tVoucher for 3701.0 customers\n",
      "\tSummer/Winter voucher for 7.0 customers\n",
      "Week 2\n",
      "\tVoucher for 1.0 customers\n",
      "\tSummer/Winter voucher for 3.0 customers\n",
      "Week 3\n",
      "\tVoucher for 19.0 customers\n",
      "\tSummer/Winter voucher for 0.0 customers\n",
      "Week 4\n",
      "\tVoucher for 1429.0 customers\n",
      "\tSummer/Winter voucher for 1202.0 customers\n",
      "Week 5\n",
      "\tVoucher for 585.0 customers\n",
      "\tSummer/Winter voucher for 215.0 customers\n",
      "Week 6\n",
      "\tVoucher for 250.0 customers\n",
      "\tSummer/Winter voucher for 50.0 customers\n",
      "Week 7\n",
      "\tVoucher for 1231.0 customers\n",
      "\tSummer/Winter voucher for 941.0 customers\n",
      "Week 8\n",
      "\tVoucher for 601.0 customers\n",
      "\tSummer/Winter voucher for 341.0 customers\n",
      "Week 9\n",
      "\tVoucher for 617.0 customers\n",
      "\tSummer/Winter voucher for 0.0 customers\n",
      "Week 10\n",
      "\tVoucher for 1961.0 customers\n",
      "\tSummer/Winter voucher for 0.0 customers\n",
      "Week 11\n",
      "\tVoucher for 1137.0 customers\n",
      "\tSummer/Winter voucher for 0.0 customers\n",
      "Week 12\n",
      "\tVoucher for 633.0 customers\n",
      "\tSummer/Winter voucher for 0.0 customers\n",
      "Week 13\n",
      "\tVoucher for 1781.0 customers\n",
      "\tSummer/Winter voucher for 0.0 customers\n",
      "Week 14\n",
      "\tVoucher for 1305.0 customers\n",
      "\tSummer/Winter voucher for 0.0 customers\n",
      "Week 15\n",
      "\tVoucher for 645.0 customers\n",
      "\tSummer/Winter voucher for 0.0 customers\n",
      "Week 16\n",
      "\tVoucher for 1621.0 customers\n",
      "\tSummer/Winter voucher for 0.0 customers\n",
      "Week 17\n",
      "\tVoucher for 1447.0 customers\n",
      "\tSummer/Winter voucher for 0.0 customers\n",
      "Week 18\n",
      "\tVoucher for 663.0 customers\n",
      "\tSummer/Winter voucher for 0.0 customers\n",
      "Week 19\n",
      "\tVoucher for 1485.0 customers\n",
      "\tSummer/Winter voucher for 0.0 customers\n",
      "Week 20\n",
      "\tVoucher for 1556.0 customers\n",
      "\tSummer/Winter voucher for 0.0 customers\n",
      "Week 21\n",
      "\tVoucher for 690.0 customers\n",
      "\tSummer/Winter voucher for 0.0 customers\n",
      "Week 22\n",
      "\tVoucher for 1327.0 customers\n",
      "\tSummer/Winter voucher for 0.0 customers\n",
      "Week 23\n",
      "\tVoucher for 1682.0 customers\n",
      "\tSummer/Winter voucher for 0.0 customers\n",
      "Week 24\n",
      "\tVoucher for 490.0 customers\n",
      "\tSummer/Winter voucher for 232.0 customers\n",
      "Week 25\n",
      "\tVoucher for 690.0 customers\n",
      "\tSummer/Winter voucher for 425.0 customers\n",
      "Week 26\n",
      "\tVoucher for 940.0 customers\n",
      "\tSummer/Winter voucher for 547.0 customers\n",
      "Week 27\n",
      "\tVoucher for 680.0 customers\n",
      "\tSummer/Winter voucher for 449.0 customers\n",
      "Week 28\n",
      "\tVoucher for 569.0 customers\n",
      "\tSummer/Winter voucher for 315.0 customers\n",
      "Week 29\n",
      "\tVoucher for 815.0 customers\n",
      "\tSummer/Winter voucher for 506.0 customers\n",
      "Week 30\n",
      "\tVoucher for 905.0 customers\n",
      "\tSummer/Winter voucher for 621.0 customers\n",
      "Week 31\n",
      "\tVoucher for 484.0 customers\n",
      "\tSummer/Winter voucher for 181.0 customers\n",
      "Week 32\n",
      "\tVoucher for 627.0 customers\n",
      "\tSummer/Winter voucher for 387.0 customers\n",
      "Week 33\n",
      "\tVoucher for 2052.0 customers\n",
      "\tSummer/Winter voucher for 0.0 customers\n",
      "Week 34\n",
      "\tVoucher for 551.0 customers\n",
      "\tSummer/Winter voucher for 0.0 customers\n",
      "Week 35\n",
      "\tVoucher for 1097.0 customers\n",
      "\tSummer/Winter voucher for 0.0 customers\n",
      "Week 36\n",
      "\tVoucher for 2083.0 customers\n",
      "\tSummer/Winter voucher for 0.0 customers\n",
      "Week 37\n",
      "\tVoucher for 467.0 customers\n",
      "\tSummer/Winter voucher for 0.0 customers\n",
      "Week 38\n",
      "\tVoucher for 1165.0 customers\n",
      "\tSummer/Winter voucher for 0.0 customers\n",
      "Week 39\n",
      "\tVoucher for 2099.0 customers\n",
      "\tSummer/Winter voucher for 0.0 customers\n",
      "Week 40\n",
      "\tVoucher for 394.0 customers\n",
      "\tSummer/Winter voucher for 0.0 customers\n",
      "Week 41\n",
      "\tVoucher for 1206.0 customers\n",
      "\tSummer/Winter voucher for 0.0 customers\n",
      "Week 42\n",
      "\tVoucher for 2131.0 customers\n",
      "\tSummer/Winter voucher for 0.0 customers\n",
      "Week 43\n",
      "\tVoucher for 305.0 customers\n",
      "\tSummer/Winter voucher for 0.0 customers\n",
      "Week 44\n",
      "\tVoucher for 1272.0 customers\n",
      "\tSummer/Winter voucher for 0.0 customers\n",
      "Week 45\n",
      "\tVoucher for 2154.0 customers\n",
      "\tSummer/Winter voucher for 0.0 customers\n",
      "Week 46\n",
      "\tVoucher for 209.0 customers\n",
      "\tSummer/Winter voucher for 0.0 customers\n",
      "Week 47\n",
      "\tVoucher for 1333.0 customers\n",
      "\tSummer/Winter voucher for 0.0 customers\n",
      "Week 48\n",
      "\tVoucher for 1162.0 customers\n",
      "\tSummer/Winter voucher for 1027.0 customers\n",
      "Week 49\n",
      "\tVoucher for 17.0 customers\n",
      "\tSummer/Winter voucher for 0.0 customers\n",
      "Week 50\n",
      "\tVoucher for 0.0 customers\n",
      "\tSummer/Winter voucher for 1.0 customers\n",
      "Week 51\n",
      "\tVoucher for 3708.0 customers\n",
      "\tSummer/Winter voucher for 5.0 customers\n",
      "Week 52\n",
      "\tVoucher for 3724.0 customers\n",
      "\tSummer/Winter voucher for 7.0 customers\n"
     ]
    }
   ],
   "source": [
    "# Print solution\n",
    "for t in weeks:\n",
    "    print(\"Week \" + str(t)) \n",
    "    n_voucher = 0\n",
    "    n_summer_winter = 0    \n",
    "    for i in customers:\n",
    "        n_voucher = n_voucher + yvar[(i,t)].varValue\n",
    "        n_summer_winter = n_summer_winter + svar[(i,t)].varValue\n",
    "    \n",
    "    #if n_voucher > 0:\n",
    "    print(\"\\tVoucher for \" + str(n_voucher) + \" customers\")\n",
    "    #if n_summer_winter > 0:\n",
    "    print(\"\\tSummer/Winter voucher for \" + str(n_summer_winter) + \" customers\")"
   ]
  },
  {
   "cell_type": "code",
   "execution_count": null,
   "metadata": {},
   "outputs": [],
   "source": []
  }
 ],
 "metadata": {
  "kernelspec": {
   "name": "python3810jvsc74a57bd0a43d245fe8539873843b4412fe8e3f563b5b49ad007f6fb09568c8fdd29dc56f",
   "display_name": "Python 3.8.10 64-bit (windows store)"
  },
  "language_info": {
   "codemirror_mode": {
    "name": "ipython",
    "version": 3
   },
   "file_extension": ".py",
   "mimetype": "text/x-python",
   "name": "python",
   "nbconvert_exporter": "python",
   "pygments_lexer": "ipython3",
   "version": "3.8.10"
  },
  "metadata": {
   "interpreter": {
    "hash": "a43d245fe8539873843b4412fe8e3f563b5b49ad007f6fb09568c8fdd29dc56f"
   }
  }
 },
 "nbformat": 4,
 "nbformat_minor": 2
}