{
  "nbformat": 4,
  "nbformat_minor": 0,
  "metadata": {
    "colab": {
      "name": "Assignment 3 Final Code Humza",
      "provenance": [],
      "collapsed_sections": []
    },
    "kernelspec": {
      "display_name": "Python 3",
      "language": "python",
      "name": "python3"
    },
    "language_info": {
      "codemirror_mode": {
        "name": "ipython",
        "version": 3
      },
      "file_extension": ".py",
      "mimetype": "text/x-python",
      "name": "python",
      "nbconvert_exporter": "python",
      "pygments_lexer": "ipython3",
      "version": "3.7.3"
    }
  },
  "cells": [
    {
      "cell_type": "markdown",
      "metadata": {
        "id": "SAFylqflYIHW"
      },
      "source": [
        "#RSM8521 Assignment 3\n",
        "# Humza Azhar Butt"
      ]
    },
    {
      "cell_type": "code",
      "metadata": {
        "id": "RRUc09ttIaSK",
        "colab": {
          "base_uri": "https://localhost:8080/"
        },
        "outputId": "dbdd93c9-73cd-4fa4-8a96-1b39114af267"
      },
      "source": [
        "import pandas as pd\n",
        "import numpy as np\n",
        "from sklearn.ensemble import RandomForestClassifier\n",
        "from sklearn.model_selection import train_test_split\n",
        "from sklearn.metrics import roc_auc_score\n",
        "from sklearn.preprocessing import StandardScaler\n",
        "from keras.models import Sequential\n",
        "from keras.layers import Dense, Activation, Dropout\n",
        "from keras.datasets import mnist\n",
        "from keras.optimizers import Adam\n",
        "from keras.regularizers import l1, l2\n",
        "from keras.utils import to_categorical\n",
        "from keras.callbacks import TensorBoard\n",
        "from keras.datasets import boston_housing\n",
        "from sklearn.preprocessing import StandardScaler\n",
        "from sklearn.model_selection import GridSearchCV\n",
        "from sklearn.linear_model import LogisticRegression\n",
        "from sklearn.neighbors import KNeighborsClassifier\n",
        "from sklearn.tree import DecisionTreeClassifier\n",
        "from sklearn.svm import SVC\n",
        "from sklearn.ensemble import GradientBoostingClassifier\n",
        "from sklearn.pipeline import make_pipeline, Pipeline\n",
        "from sklearn.preprocessing import MinMaxScaler\n",
        "from sklearn.metrics import accuracy_score\n",
        "from sklearn.metrics import classification_report\n",
        "import matplotlib.pyplot as plt\n",
        "import imblearn\n",
        "from imblearn.over_sampling import SMOTE\n",
        "\n",
        "import seaborn as sns\n",
        "\n",
        "import tensorflow as tf\n",
        "from tensorflow.keras import regularizers\n",
        "from tensorflow.keras.callbacks import EarlyStopping\n",
        "from tensorflow.keras.layers import Dense, Input\n",
        "from tensorflow.keras.models import Model, Sequential\n",
        "from tqdm.keras import TqdmCallback"
      ],
      "execution_count": 1,
      "outputs": [
        {
          "output_type": "stream",
          "text": [
            "/usr/local/lib/python3.7/dist-packages/sklearn/externals/six.py:31: FutureWarning: The module is deprecated in version 0.21 and will be removed in version 0.23 since we've dropped support for Python 2.7. Please rely on the official version of six (https://pypi.org/project/six/).\n",
            "  \"(https://pypi.org/project/six/).\", FutureWarning)\n",
            "/usr/local/lib/python3.7/dist-packages/sklearn/utils/deprecation.py:144: FutureWarning: The sklearn.neighbors.base module is  deprecated in version 0.22 and will be removed in version 0.24. The corresponding classes / functions should instead be imported from sklearn.neighbors. Anything that cannot be imported from sklearn.neighbors is now part of the private API.\n",
            "  warnings.warn(message, FutureWarning)\n"
          ],
          "name": "stderr"
        }
      ]
    },
    {
      "cell_type": "markdown",
      "metadata": {
        "id": "EezAWWf6IaSQ"
      },
      "source": [
        "# Load Data\n",
        "\n",
        "Upload the files to your Google Drive and mount it in the Colab notebook using the code below.\n",
        "\n",
        "Files: `promos.csv.gz`, `test_history.csv.gz`, `train_history.csv.gz`, and `transactions.csv.gz`."
      ]
    },
    {
      "cell_type": "code",
      "metadata": {
        "colab": {
          "base_uri": "https://localhost:8080/"
        },
        "id": "RWSJpsyKqHjH",
        "outputId": "56ed4189-bee0-481f-c587-2df9dc145fa1"
      },
      "source": [
        "# This will ask you to give Colab permission to access your Google Drive \n",
        "# and enter an authorization code.\n",
        "# See: https://colab.research.google.com/notebooks/io.ipynb#scrollTo=u22w3BFiOveA\n",
        "from google.colab import drive\n",
        "drive.mount('/content/drive')"
      ],
      "execution_count": 4,
      "outputs": [
        {
          "output_type": "stream",
          "text": [
            "Mounted at /content/drive\n"
          ],
          "name": "stdout"
        }
      ]
    },
    {
      "cell_type": "code",
      "metadata": {
        "id": "FXnuCisKOkzr"
      },
      "source": [
        "# MODIFY THIS LINE with the path to where you saved the datafiles on your Google drive\n",
        "path = '/content/drive/My Drive/Colab Notebooks/RSM8521 - Assignment 3/'"
      ],
      "execution_count": 5,
      "outputs": []
    },
    {
      "cell_type": "code",
      "metadata": {
        "id": "Tiufe72OIaSQ",
        "colab": {
          "base_uri": "https://localhost:8080/"
        },
        "outputId": "3b52ef30-75c9-4c78-a4a9-7901b15d44a6"
      },
      "source": [
        "promos = pd.read_csv(path + '/promos.csv.gz')\n",
        "#promos=pd.get_dummies(promos, \n",
        " #                       prefix=['c'], \n",
        "  #                      columns=[\"category\"])\n",
        "promos.info()"
      ],
      "execution_count": 6,
      "outputs": [
        {
          "output_type": "stream",
          "text": [
            "<class 'pandas.core.frame.DataFrame'>\n",
            "RangeIndex: 24 entries, 0 to 23\n",
            "Data columns (total 6 columns):\n",
            " #   Column        Non-Null Count  Dtype  \n",
            "---  ------        --------------  -----  \n",
            " 0   promo         24 non-null     int64  \n",
            " 1   category      24 non-null     int64  \n",
            " 2   promoqty      24 non-null     int64  \n",
            " 3   manufacturer  24 non-null     int64  \n",
            " 4   promoval      24 non-null     float64\n",
            " 5   brand         24 non-null     int64  \n",
            "dtypes: float64(1), int64(5)\n",
            "memory usage: 1.2 KB\n"
          ],
          "name": "stdout"
        }
      ]
    },
    {
      "cell_type": "code",
      "metadata": {
        "id": "nSmAvmYnIaSS",
        "colab": {
          "base_uri": "https://localhost:8080/"
        },
        "outputId": "b6e5b4f7-88fe-4db8-9b60-96353217d2ca"
      },
      "source": [
        "train_history = pd.read_csv(path + '/train_history.csv.gz', parse_dates=['promodate'])\n",
        "train_history.info()"
      ],
      "execution_count": 7,
      "outputs": [
        {
          "output_type": "stream",
          "text": [
            "<class 'pandas.core.frame.DataFrame'>\n",
            "RangeIndex: 20000 entries, 0 to 19999\n",
            "Data columns (total 6 columns):\n",
            " #   Column     Non-Null Count  Dtype         \n",
            "---  ------     --------------  -----         \n",
            " 0   id         20000 non-null  int64         \n",
            " 1   store      20000 non-null  int64         \n",
            " 2   promo      20000 non-null  int64         \n",
            " 3   region     20000 non-null  int64         \n",
            " 4   promodate  20000 non-null  datetime64[ns]\n",
            " 5   active     20000 non-null  float64       \n",
            "dtypes: datetime64[ns](1), float64(1), int64(4)\n",
            "memory usage: 937.6 KB\n"
          ],
          "name": "stdout"
        }
      ]
    },
    {
      "cell_type": "code",
      "metadata": {
        "id": "__RrtX-SIaST",
        "colab": {
          "base_uri": "https://localhost:8080/"
        },
        "outputId": "01d5bd94-37e1-4e6d-9ab3-9947b0580894"
      },
      "source": [
        "test_history = pd.read_csv(path + '/test_history.csv.gz', parse_dates=['promodate'])\n",
        "test_history.info()"
      ],
      "execution_count": 8,
      "outputs": [
        {
          "output_type": "stream",
          "text": [
            "<class 'pandas.core.frame.DataFrame'>\n",
            "RangeIndex: 10000 entries, 0 to 9999\n",
            "Data columns (total 6 columns):\n",
            " #   Column     Non-Null Count  Dtype         \n",
            "---  ------     --------------  -----         \n",
            " 0   id         10000 non-null  int64         \n",
            " 1   store      10000 non-null  int64         \n",
            " 2   promo      10000 non-null  int64         \n",
            " 3   region     10000 non-null  int64         \n",
            " 4   promodate  10000 non-null  datetime64[ns]\n",
            " 5   active     0 non-null      float64       \n",
            "dtypes: datetime64[ns](1), float64(1), int64(4)\n",
            "memory usage: 468.9 KB\n"
          ],
          "name": "stdout"
        }
      ]
    },
    {
      "cell_type": "code",
      "metadata": {
        "id": "yTxD1_kUrZ9C"
      },
      "source": [
        "test_history = pd.merge(test_history,promos, on=[\"promo\"])"
      ],
      "execution_count": 9,
      "outputs": []
    },
    {
      "cell_type": "code",
      "metadata": {
        "id": "l_QK95DxIaSU"
      },
      "source": [
        "transactions = pd.read_csv(path + 'transactions.csv.gz', parse_dates=['date'])"
      ],
      "execution_count": 10,
      "outputs": []
    },
    {
      "cell_type": "code",
      "metadata": {
        "colab": {
          "base_uri": "https://localhost:8080/"
        },
        "id": "cfMJETClz61f",
        "outputId": "1b628275-0290-4170-8327-6605d2352f79"
      },
      "source": [
        "transactions.info()"
      ],
      "execution_count": 11,
      "outputs": [
        {
          "output_type": "stream",
          "text": [
            "<class 'pandas.core.frame.DataFrame'>\n",
            "RangeIndex: 34184139 entries, 0 to 34184138\n",
            "Data columns (total 11 columns):\n",
            " #   Column        Dtype         \n",
            "---  ------        -----         \n",
            " 0   id            int64         \n",
            " 1   store         int64         \n",
            " 2   market_group  int64         \n",
            " 3   category      int64         \n",
            " 4   manufacturer  int64         \n",
            " 5   brand         int64         \n",
            " 6   date          datetime64[ns]\n",
            " 7   productsize   float64       \n",
            " 8   measure       object        \n",
            " 9   qty           int64         \n",
            " 10  amt           float64       \n",
            "dtypes: datetime64[ns](1), float64(2), int64(7), object(1)\n",
            "memory usage: 2.8+ GB\n"
          ],
          "name": "stdout"
        }
      ]
    },
    {
      "cell_type": "code",
      "metadata": {
        "id": "2fvoMGGoWiar"
      },
      "source": [
        "#Add Day of Week transaction occured\n",
        "transactions['Day'] = transactions['date'].dt.dayofweek"
      ],
      "execution_count": 12,
      "outputs": []
    },
    {
      "cell_type": "code",
      "metadata": {
        "id": "1_9Z12zVGzAk"
      },
      "source": [
        "#Total size of all products purchased per transactions\n",
        "transactions[\"productsize_qty\"]=transactions[\"productsize\"]*transactions[\"qty\"]"
      ],
      "execution_count": 13,
      "outputs": []
    },
    {
      "cell_type": "code",
      "metadata": {
        "id": "UO8G0nH8MNfP"
      },
      "source": [
        "#Merge promot and train history datasets together\n",
        "result = pd.merge(train_history,promos, on=[\"promo\"])"
      ],
      "execution_count": 14,
      "outputs": []
    },
    {
      "cell_type": "code",
      "metadata": {
        "id": "wHg1YBkxWsNw"
      },
      "source": [
        "#Multiply promotion value with promotion quantity\n",
        "result[\"promototal\"]=result[\"promoval\"]*result[\"promoqty\"]\n",
        "test_history[\"promototal\"]=test_history[\"promoval\"]*test_history[\"promoqty\"]"
      ],
      "execution_count": 15,
      "outputs": []
    },
    {
      "cell_type": "code",
      "metadata": {
        "id": "yZrBcQZDMRwi"
      },
      "source": [
        "#Groupby into dataframe for future merging\n",
        "a=transactions.groupby('store').mean()\n",
        "b=transactions.groupby('id').max()"
      ],
      "execution_count": 16,
      "outputs": []
    },
    {
      "cell_type": "code",
      "metadata": {
        "id": "6axfruxC460V"
      },
      "source": [
        "#Avereage Sales on different Day of Week by customer ID\n",
        "d=transactions.groupby(['id','Day']).mean()"
      ],
      "execution_count": 17,
      "outputs": []
    },
    {
      "cell_type": "code",
      "metadata": {
        "id": "0opgTxYN56CH"
      },
      "source": [
        "#Different day of week average aggreagation data\n",
        "day1=d.xs(0, level='Day', drop_level=False)\n",
        "day2=d.xs(1, level='Day', drop_level=False)\n",
        "day3=d.xs(2, level='Day', drop_level=False)\n",
        "day4=d.xs(3, level='Day', drop_level=False)\n",
        "day5=d.xs(4, level='Day', drop_level=False)\n",
        "day6=d.xs(5, level='Day', drop_level=False)\n",
        "day7=d.xs(6, level='Day', drop_level=False)"
      ],
      "execution_count": 18,
      "outputs": []
    },
    {
      "cell_type": "code",
      "metadata": {
        "id": "GO9KBQ5ik9I9"
      },
      "source": [
        "#Training\n",
        "#Merge all the aggreatted transaction data\n",
        "result = pd.merge(result,a[\"amt\"], on=[\"store\"],how=\"inner\")\n",
        "result = pd.merge(result,b[\"date\"], on=[\"id\"],how=\"inner\")\n",
        "result = pd.merge(result,day1[\"amt\"].rename(\"Count_Day1\"), on=[\"id\"],how=\"inner\")\n",
        "result = pd.merge(result,day2[\"amt\"].rename(\"Count_Day2\"), on=[\"id\"],how=\"inner\")\n",
        "result = pd.merge(result,day3[\"amt\"].rename(\"Count_Day3\"), on=[\"id\"],how=\"inner\")\n",
        "result = pd.merge(result,day4[\"amt\"].rename(\"Count_Day4\"), on=[\"id\"],how=\"inner\")\n",
        "result = pd.merge(result,day5[\"amt\"].rename(\"Count_Day5\"), on=[\"id\"],how=\"inner\")\n",
        "result = pd.merge(result,day6[\"amt\"].rename(\"Count_Day6\"), on=[\"id\"],how=\"inner\")\n",
        "result = pd.merge(result,day7[\"amt\"].rename(\"Count_Day7\"), on=[\"id\"],how=\"inner\")\n",
        "\n",
        "#Test\n",
        "test_history = pd.merge(test_history,a[\"amt\"], on=[\"store\"],how=\"inner\")\n",
        "#result = pd.merge(result,transactions[[\"category\",\"market_group\"]], on=[\"category\"],how=\"inner\")\n",
        "test_history = pd.merge(test_history,b[\"date\"], on=[\"id\"],how=\"inner\")\n",
        "test_history = pd.merge(test_history,day1[\"amt\"].rename(\"Count_Day1\"), on=[\"id\"],how=\"inner\")\n",
        "test_history = pd.merge(test_history,day2[\"amt\"].rename(\"Count_Day2\"), on=[\"id\"],how=\"inner\")\n",
        "test_history = pd.merge(test_history,day3[\"amt\"].rename(\"Count_Day3\"), on=[\"id\"],how=\"inner\")\n",
        "test_history = pd.merge(test_history,day4[\"amt\"].rename(\"Count_Day4\"), on=[\"id\"],how=\"inner\")\n",
        "test_history = pd.merge(test_history,day5[\"amt\"].rename(\"Count_Day5\"), on=[\"id\"],how=\"inner\")\n",
        "test_history = pd.merge(test_history,day6[\"amt\"].rename(\"Count_Day6\"), on=[\"id\"],how=\"inner\")\n",
        "test_history = pd.merge(test_history,day7[\"amt\"].rename(\"Count_Day7\"), on=[\"id\"],how=\"inner\")\n"
      ],
      "execution_count": 19,
      "outputs": []
    },
    {
      "cell_type": "code",
      "metadata": {
        "id": "NMEsVUysipd1"
      },
      "source": [
        "#Create variables for Train History Dataset\n",
        "result['DayofWeek'] = result['promodate'].dt.dayofweek\n",
        "result[\"Weekend\"] = np.where((result[\"DayofWeek\"]==5) |(result[\"DayofWeek\"]==6)  ,1,0)\n",
        "\n",
        "\n",
        "result['from_last_purchase'] = (result[\"promodate\"] - result['date']) / np.timedelta64(1, \"D\")\n",
        "\n",
        "#Do the same for Test Data\n",
        "\n",
        "test_history['DayofWeek'] = test_history['promodate'].dt.dayofweek\n",
        "test_history[\"Weekend\"] = np.where((test_history[\"DayofWeek\"]==5) |(test_history[\"DayofWeek\"]==6)  ,1,0)\n",
        "\n",
        "\n",
        "test_history['from_last_purchase'] = (test_history[\"promodate\"] - test_history['date']) / np.timedelta64(1, \"D\")\n",
        "\n",
        "test_history=pd.get_dummies(result, \n",
        "                        prefix=['c','p','m','b'], \n",
        "                        columns=[\"category\",\"promo\",\"manufacturer\",\"brand\"])\n"
      ],
      "execution_count": 20,
      "outputs": []
    },
    {
      "cell_type": "code",
      "metadata": {
        "id": "FrQajXtrQFkE"
      },
      "source": [
        "#Create Dummy Variables\n",
        "result=pd.get_dummies(result, \n",
        "                        prefix=['c'], \n",
        "                        columns=[\"category\"])\n",
        "result=pd.get_dummies(result, \n",
        "                        prefix=['p'], \n",
        "                        columns=[\"promo\"])\n",
        "result=pd.get_dummies(result, \n",
        "                        prefix=['m'], \n",
        "                        columns=[\"manufacturer\"])\n",
        "result=pd.get_dummies(result, \n",
        "                        prefix=['b'], \n",
        "                        columns=[\"brand\"])"
      ],
      "execution_count": 21,
      "outputs": []
    },
    {
      "cell_type": "markdown",
      "metadata": {
        "id": "W6OJV3ONIaSU"
      },
      "source": [
        "# Extract Features"
      ]
    },
    {
      "cell_type": "markdown",
      "metadata": {
        "id": "kqkWrtBSIaSV"
      },
      "source": [
        "## Compute RFM Features"
      ]
    },
    {
      "cell_type": "code",
      "metadata": {
        "colab": {
          "base_uri": "https://localhost:8080/",
          "height": 191
        },
        "id": "ONT8BJeGIaSV",
        "outputId": "fbc53aef-b6ef-48d4-89e0-212b589b07dd"
      },
      "source": [
        "#Aggreagate Trnsaction Data Variables\n",
        "max_date = transactions.date.max()\n",
        "\n",
        "transactions['last_purchase'] = (max_date - transactions['date']) / np.timedelta64(1, \"D\")\n",
        "\n",
        "\n",
        "# Agg transaction data to id\n",
        "trans_features = transactions.groupby('id').agg({\n",
        "    'last_purchase': 'min',\n",
        "    'Day':\"std\",\n",
        "    'date': ['nunique', 'min','count'],\n",
        "    'amt': ['sum','std'],\n",
        "    'productsize_qty': 'sum',\n",
        "    \"manufacturer\":\"nunique\",\n",
        "    \"productsize\": ['std','min',\"max\"],\n",
        "    'qty':'sum',\n",
        "})\n",
        "\n",
        "\n",
        "# Compute RFM columns\n",
        "trans_features['recency'] = trans_features['last_purchase']['min']\n",
        "trans_features['mostfrequentday'] = trans_features['Day']['std']\n",
        "trans_features['basketsize'] = (trans_features['date']['count'] / ((max_date - trans_features['date']['min']) / np.timedelta64(1, \"D\")))\n",
        "trans_features['amountaverage'] = (trans_features['amt']['sum'] / ((max_date - trans_features['date']['min']) / np.timedelta64(1, \"D\")))\n",
        "trans_features['frequency'] = (trans_features['date']['nunique']\n",
        "                               / ((max_date - trans_features['date']['min']) / np.timedelta64(1, \"D\")))\n",
        "trans_features['monetary'] = trans_features['amt']['sum']\n",
        "trans_features['monetary_std'] = trans_features['amt']['std']\n",
        "trans_features['cummulativeproductsize']=trans_features['productsize_qty'][\"sum\"]\n",
        "trans_features['unique_manufacturer']=trans_features['manufacturer'][\"nunique\"]\n",
        "trans_features[\"volume\"]=trans_features['qty'][\"sum\"]\n",
        "trans_features['averageproductsize']=trans_features['productsize'][\"std\"]\n",
        "trans_features['minproductsize']=trans_features['productsize'][\"min\"]\n",
        "trans_features['maxproductsize']=trans_features['productsize'][\"max\"]\n",
        "trans_features['rangeproductsize']=trans_features['maxproductsize']-trans_features['minproductsize']\n",
        "trans_features['transaction_amount']=trans_features['date'][\"count\"]\n",
        "\n",
        "\n",
        "# Select out required features\n",
        "trans_features = trans_features[['recency', 'frequency', 'monetary',\"cummulativeproductsize\",\"monetary_std\",\"volume\",\"mostfrequentday\",\"basketsize\",\"amountaverage\",\"averageproductsize\",\"minproductsize\",\n",
        "                                 \"maxproductsize\",\"rangeproductsize\",\"transaction_amount\"\n",
        "                               ]].reset_index()\n",
        "\n",
        "#trans_features = trans_features[['recency', 'frequency', 'monetary',\"volatility\",\"totalpromoval\",\"volume\",\"value\",\"promotcount\",\"storebrandcount\",\"timefrompromo\",\"volume_std\",\"averageproductsize\",\"promotrecency\",\"cummulativeproductsize\"]].reset_index()\n",
        "trans_features.columns = trans_features.columns.get_level_values(0)\n",
        "trans_features.head()"
      ],
      "execution_count": 22,
      "outputs": [
        {
          "output_type": "execute_result",
          "data": {
            "text/html": [
              "<div>\n",
              "<style scoped>\n",
              "    .dataframe tbody tr th:only-of-type {\n",
              "        vertical-align: middle;\n",
              "    }\n",
              "\n",
              "    .dataframe tbody tr th {\n",
              "        vertical-align: top;\n",
              "    }\n",
              "\n",
              "    .dataframe thead th {\n",
              "        text-align: right;\n",
              "    }\n",
              "</style>\n",
              "<table border=\"1\" class=\"dataframe\">\n",
              "  <thead>\n",
              "    <tr style=\"text-align: right;\">\n",
              "      <th></th>\n",
              "      <th>id</th>\n",
              "      <th>recency</th>\n",
              "      <th>frequency</th>\n",
              "      <th>monetary</th>\n",
              "      <th>cummulativeproductsize</th>\n",
              "      <th>monetary_std</th>\n",
              "      <th>volume</th>\n",
              "      <th>mostfrequentday</th>\n",
              "      <th>basketsize</th>\n",
              "      <th>amountaverage</th>\n",
              "      <th>averageproductsize</th>\n",
              "      <th>minproductsize</th>\n",
              "      <th>maxproductsize</th>\n",
              "      <th>rangeproductsize</th>\n",
              "      <th>transaction_amount</th>\n",
              "    </tr>\n",
              "  </thead>\n",
              "  <tbody>\n",
              "    <tr>\n",
              "      <th>0</th>\n",
              "      <td>32159355</td>\n",
              "      <td>3.0</td>\n",
              "      <td>0.201117</td>\n",
              "      <td>3141.84</td>\n",
              "      <td>21425.50</td>\n",
              "      <td>7.044144</td>\n",
              "      <td>774</td>\n",
              "      <td>2.077201</td>\n",
              "      <td>1.793296</td>\n",
              "      <td>8.776089</td>\n",
              "      <td>52.546071</td>\n",
              "      <td>0.1</td>\n",
              "      <td>500.0</td>\n",
              "      <td>499.9</td>\n",
              "      <td>642</td>\n",
              "    </tr>\n",
              "    <tr>\n",
              "      <th>1</th>\n",
              "      <td>38085541</td>\n",
              "      <td>4.0</td>\n",
              "      <td>0.146814</td>\n",
              "      <td>2231.17</td>\n",
              "      <td>16213.73</td>\n",
              "      <td>2.259006</td>\n",
              "      <td>737</td>\n",
              "      <td>2.093854</td>\n",
              "      <td>1.681440</td>\n",
              "      <td>6.180526</td>\n",
              "      <td>38.489569</td>\n",
              "      <td>0.0</td>\n",
              "      <td>552.0</td>\n",
              "      <td>552.0</td>\n",
              "      <td>607</td>\n",
              "    </tr>\n",
              "    <tr>\n",
              "      <th>2</th>\n",
              "      <td>41697872</td>\n",
              "      <td>0.0</td>\n",
              "      <td>0.248619</td>\n",
              "      <td>5006.52</td>\n",
              "      <td>50248.14</td>\n",
              "      <td>6.023703</td>\n",
              "      <td>1719</td>\n",
              "      <td>1.894154</td>\n",
              "      <td>3.331492</td>\n",
              "      <td>13.830166</td>\n",
              "      <td>67.095963</td>\n",
              "      <td>0.0</td>\n",
              "      <td>405.6</td>\n",
              "      <td>405.6</td>\n",
              "      <td>1206</td>\n",
              "    </tr>\n",
              "    <tr>\n",
              "      <th>3</th>\n",
              "      <td>54676900</td>\n",
              "      <td>0.0</td>\n",
              "      <td>0.245810</td>\n",
              "      <td>1793.02</td>\n",
              "      <td>24370.16</td>\n",
              "      <td>2.538765</td>\n",
              "      <td>841</td>\n",
              "      <td>1.697097</td>\n",
              "      <td>1.745810</td>\n",
              "      <td>5.008436</td>\n",
              "      <td>55.074668</td>\n",
              "      <td>0.0</td>\n",
              "      <td>800.0</td>\n",
              "      <td>800.0</td>\n",
              "      <td>625</td>\n",
              "    </tr>\n",
              "    <tr>\n",
              "      <th>4</th>\n",
              "      <td>58631253</td>\n",
              "      <td>0.0</td>\n",
              "      <td>0.251381</td>\n",
              "      <td>4926.40</td>\n",
              "      <td>39670.63</td>\n",
              "      <td>5.944227</td>\n",
              "      <td>1412</td>\n",
              "      <td>2.064259</td>\n",
              "      <td>3.273481</td>\n",
              "      <td>13.608840</td>\n",
              "      <td>51.568232</td>\n",
              "      <td>0.0</td>\n",
              "      <td>500.0</td>\n",
              "      <td>500.0</td>\n",
              "      <td>1185</td>\n",
              "    </tr>\n",
              "  </tbody>\n",
              "</table>\n",
              "</div>"
            ],
            "text/plain": [
              "         id  recency  ...  rangeproductsize  transaction_amount\n",
              "0  32159355      3.0  ...             499.9                 642\n",
              "1  38085541      4.0  ...             552.0                 607\n",
              "2  41697872      0.0  ...             405.6                1206\n",
              "3  54676900      0.0  ...             800.0                 625\n",
              "4  58631253      0.0  ...             500.0                1185\n",
              "\n",
              "[5 rows x 15 columns]"
            ]
          },
          "metadata": {
            "tags": []
          },
          "execution_count": 22
        }
      ]
    },
    {
      "cell_type": "markdown",
      "metadata": {
        "id": "PP6h3QGaIaSW"
      },
      "source": [
        "## Generate train, test and prediction sets"
      ]
    },
    {
      "cell_type": "code",
      "metadata": {
        "id": "hMgkSNKcIaSW"
      },
      "source": [
        "# Generate train/test features\n",
        "features = result.merge(trans_features, on='id', how='left')\n",
        "features.recency.fillna(365, inplace=True)\n",
        "features.frequency.fillna(0, inplace=True)\n",
        "features.monetary.fillna(0, inplace=True)\n",
        "features.volume.fillna(0, inplace=True)\n",
        "features.cummulativeproductsize.fillna(0, inplace=True)\n",
        "features.promototal.fillna(0, inplace=True)\n",
        "features.monetary_std.fillna(0, inplace=True)\n",
        "features.amt.fillna(0, inplace=True)\n",
        "features.mostfrequentday.fillna(0, inplace=True)\n",
        "features.basketsize.fillna(0, inplace=True)\n",
        "features.amountaverage.fillna(0, inplace=True)\n",
        "features.minproductsize.fillna(0, inplace=True)\n",
        "features.maxproductsize.fillna(0, inplace=True)\n",
        "features.rangeproductsize.fillna(0, inplace=True)\n",
        "features.averageproductsize.fillna(0, inplace=True)\n",
        "\n",
        "\n",
        "x_cols = ['recency', 'frequency', 'monetary',\"promototal\",'c_8946099', 'c_20487740',\n",
        "       'c_42760698', 'c_51006740', 'c_55115791', 'c_56844954', 'c_75228190',\n",
        "       'c_81382162',\"transaction_amount\",\"mostfrequentday\",'Count_Day1', 'Count_Day2', 'Count_Day3', 'Count_Day4',\n",
        "       'Count_Day5', 'Count_Day6', 'Count_Day7',\"DayofWeek\",\"from_last_purchase\"\n",
        "       ]\n",
        "\n",
        "y_col = 'active'"
      ],
      "execution_count": 36,
      "outputs": []
    },
    {
      "cell_type": "code",
      "metadata": {
        "id": "SUCWVrayd47n"
      },
      "source": [
        "X = features[x_cols]\n",
        "y = features[y_col]\n",
        "X_train, X_test, y_train, y_test = train_test_split(X, y, test_size=0.20, random_state=101)"
      ],
      "execution_count": 37,
      "outputs": []
    },
    {
      "cell_type": "code",
      "metadata": {
        "id": "IoXjyRJxd2rZ"
      },
      "source": [
        "#Create more sample data for minority class using SMOTE\n",
        "#oversample = SMOTE()\n",
        "#X_train, y_train = oversample.fit_resample(X_train, y_train)"
      ],
      "execution_count": 38,
      "outputs": []
    },
    {
      "cell_type": "code",
      "metadata": {
        "colab": {
          "base_uri": "https://localhost:8080/",
          "height": 347
        },
        "id": "ZaAuio90hGEp",
        "outputId": "0d519e0d-34e0-4877-9365-689f15bd2c9e"
      },
      "source": [
        "#Test that SMOTE works\n",
        "sns.countplot(y_train)"
      ],
      "execution_count": 39,
      "outputs": [
        {
          "output_type": "stream",
          "text": [
            "/usr/local/lib/python3.7/dist-packages/seaborn/_decorators.py:43: FutureWarning: Pass the following variable as a keyword arg: x. From version 0.12, the only valid positional argument will be `data`, and passing other arguments without an explicit keyword will result in an error or misinterpretation.\n",
            "  FutureWarning\n"
          ],
          "name": "stderr"
        },
        {
          "output_type": "execute_result",
          "data": {
            "text/plain": [
              "<matplotlib.axes._subplots.AxesSubplot at 0x7f8f759a78d0>"
            ]
          },
          "metadata": {
            "tags": []
          },
          "execution_count": 39
        },
        {
          "output_type": "display_data",
          "data": {
            "image/png": "[encoded data removed]",
            "text/plain": [
              "<Figure size 432x288 with 1 Axes>"
            ]
          },
          "metadata": {
            "tags": [],
            "needs_background": "light"
          }
        }
      ]
    },
    {
      "cell_type": "code",
      "metadata": {
        "id": "5KCkRKPsIaSX"
      },
      "source": [
        "## Generate prediction features (for blind test)\n",
        "predict_features = test_history.merge(trans_features, on='id', how='left')\n",
        "predict_features.recency.fillna(365, inplace=True)\n",
        "predict_features.frequency.fillna(0, inplace=True)\n",
        "predict_features.monetary.fillna(0, inplace=True)\n",
        "predict_features.mostfrequentday.fillna(0, inplace=True)\n",
        "predict_features.basketsize.fillna(0, inplace=True)\n",
        "predict_features.amountaverage.fillna(0, inplace=True)\n",
        "predict_features.minproductsize.fillna(0, inplace=True)\n",
        "predict_features.maxproductsize.fillna(0, inplace=True)\n",
        "predict_features.rangeproductsize.fillna(0, inplace=True)\n",
        "predict_features.averageproductsize.fillna(0, inplace=True)\n",
        "predict_features.monetary_std.fillna(0, inplace=True)\n",
        "predict_features.amt.fillna(0, inplace=True)\n",
        "predict_features.volume.fillna(0, inplace=True)\n",
        "predict_features.cummulativeproductsize.fillna(0, inplace=True)\n",
        "predict_features.promototal.fillna(0, inplace=True)\n",
        "\n",
        "X_predict = predict_features[x_cols]\n",
        "predict_out = predict_features[['id', 'active']].copy()"
      ],
      "execution_count": 40,
      "outputs": []
    },
    {
      "cell_type": "markdown",
      "metadata": {
        "id": "gNtWx0TAIaSX"
      },
      "source": [
        "# Build Model"
      ]
    },
    {
      "cell_type": "code",
      "metadata": {
        "colab": {
          "base_uri": "https://localhost:8080/"
        },
        "id": "2cOegEvpIaSY",
        "outputId": "b683bab8-7819-4eed-f5c1-72c1bbfecb9d"
      },
      "source": [
        "#Final Model\n",
        "#Paramter Tuning done beforehand\n",
        "model = RandomForestClassifier(criterion= 'entropy', max_depth= 10, min_impurity_decrease= 0, min_samples_split= 10,random_state=101\n",
        ")\n",
        "model.fit(X_train, y_train)"
      ],
      "execution_count": 41,
      "outputs": [
        {
          "output_type": "execute_result",
          "data": {
            "text/plain": [
              "RandomForestClassifier(bootstrap=True, ccp_alpha=0.0, class_weight=None,\n",
              "                       criterion='entropy', max_depth=10, max_features='auto',\n",
              "                       max_leaf_nodes=None, max_samples=None,\n",
              "                       min_impurity_decrease=0, min_impurity_split=None,\n",
              "                       min_samples_leaf=1, min_samples_split=10,\n",
              "                       min_weight_fraction_leaf=0.0, n_estimators=100,\n",
              "                       n_jobs=None, oob_score=False, random_state=101,\n",
              "                       verbose=0, warm_start=False)"
            ]
          },
          "metadata": {
            "tags": []
          },
          "execution_count": 41
        }
      ]
    },
    {
      "cell_type": "code",
      "metadata": {
        "colab": {
          "base_uri": "https://localhost:8080/"
        },
        "id": "j5BVvC9qiTOh",
        "outputId": "ff602194-74a6-4bbe-a528-419150a66956"
      },
      "source": [
        "print('Train Accuracy: {:.2f}'.format(model.score(X_train, y_train)))\n",
        "print('Test Accuracy: {:.2f}'.format(model.score(X_test, y_test)))\n",
        "print('Test AUC: {:.2f}'.format(roc_auc_score(y_test, model.predict_proba(X_test)[:, 1])))"
      ],
      "execution_count": 42,
      "outputs": [
        {
          "output_type": "stream",
          "text": [
            "Train Accuracy: 0.83\n",
            "Test Accuracy: 0.80\n",
            "Test AUC: 0.68\n"
          ],
          "name": "stdout"
        }
      ]
    },
    {
      "cell_type": "markdown",
      "metadata": {
        "id": "SIJGxsv3IaSY"
      },
      "source": [
        "# Generate Prediction"
      ]
    },
    {
      "cell_type": "code",
      "metadata": {
        "colab": {
          "base_uri": "https://localhost:8080/",
          "height": 191
        },
        "id": "u4TZZ-xPIaSZ",
        "outputId": "da5007f6-dc00-4db5-8ad2-80a33e32e3d9"
      },
      "source": [
        "predict_out.head()"
      ],
      "execution_count": 43,
      "outputs": [
        {
          "output_type": "execute_result",
          "data": {
            "text/html": [
              "<div>\n",
              "<style scoped>\n",
              "    .dataframe tbody tr th:only-of-type {\n",
              "        vertical-align: middle;\n",
              "    }\n",
              "\n",
              "    .dataframe tbody tr th {\n",
              "        vertical-align: top;\n",
              "    }\n",
              "\n",
              "    .dataframe thead th {\n",
              "        text-align: right;\n",
              "    }\n",
              "</style>\n",
              "<table border=\"1\" class=\"dataframe\">\n",
              "  <thead>\n",
              "    <tr style=\"text-align: right;\">\n",
              "      <th></th>\n",
              "      <th>id</th>\n",
              "      <th>active</th>\n",
              "    </tr>\n",
              "  </thead>\n",
              "  <tbody>\n",
              "    <tr>\n",
              "      <th>0</th>\n",
              "      <td>115562959531</td>\n",
              "      <td>0.0</td>\n",
              "    </tr>\n",
              "    <tr>\n",
              "      <th>1</th>\n",
              "      <td>264360381954</td>\n",
              "      <td>0.0</td>\n",
              "    </tr>\n",
              "    <tr>\n",
              "      <th>2</th>\n",
              "      <td>88674724256</td>\n",
              "      <td>0.0</td>\n",
              "    </tr>\n",
              "    <tr>\n",
              "      <th>3</th>\n",
              "      <td>88245158186</td>\n",
              "      <td>0.0</td>\n",
              "    </tr>\n",
              "    <tr>\n",
              "      <th>4</th>\n",
              "      <td>135060984132</td>\n",
              "      <td>0.0</td>\n",
              "    </tr>\n",
              "  </tbody>\n",
              "</table>\n",
              "</div>"
            ],
            "text/plain": [
              "             id  active\n",
              "0  115562959531     0.0\n",
              "1  264360381954     0.0\n",
              "2   88674724256     0.0\n",
              "3   88245158186     0.0\n",
              "4  135060984132     0.0"
            ]
          },
          "metadata": {
            "tags": []
          },
          "execution_count": 43
        }
      ]
    },
    {
      "cell_type": "code",
      "metadata": {
        "colab": {
          "base_uri": "https://localhost:8080/",
          "height": 191
        },
        "id": "5_yNT76IIaSZ",
        "outputId": "9b8feb52-817d-447f-aae6-f92426ba406d"
      },
      "source": [
        "predict_out['active'] = model.predict_proba(X_predict)[:, 1]\n",
        "predict_out.head()"
      ],
      "execution_count": 44,
      "outputs": [
        {
          "output_type": "execute_result",
          "data": {
            "text/html": [
              "<div>\n",
              "<style scoped>\n",
              "    .dataframe tbody tr th:only-of-type {\n",
              "        vertical-align: middle;\n",
              "    }\n",
              "\n",
              "    .dataframe tbody tr th {\n",
              "        vertical-align: top;\n",
              "    }\n",
              "\n",
              "    .dataframe thead th {\n",
              "        text-align: right;\n",
              "    }\n",
              "</style>\n",
              "<table border=\"1\" class=\"dataframe\">\n",
              "  <thead>\n",
              "    <tr style=\"text-align: right;\">\n",
              "      <th></th>\n",
              "      <th>id</th>\n",
              "      <th>active</th>\n",
              "    </tr>\n",
              "  </thead>\n",
              "  <tbody>\n",
              "    <tr>\n",
              "      <th>0</th>\n",
              "      <td>115562959531</td>\n",
              "      <td>0.173014</td>\n",
              "    </tr>\n",
              "    <tr>\n",
              "      <th>1</th>\n",
              "      <td>264360381954</td>\n",
              "      <td>0.171604</td>\n",
              "    </tr>\n",
              "    <tr>\n",
              "      <th>2</th>\n",
              "      <td>88674724256</td>\n",
              "      <td>0.271741</td>\n",
              "    </tr>\n",
              "    <tr>\n",
              "      <th>3</th>\n",
              "      <td>88245158186</td>\n",
              "      <td>0.157992</td>\n",
              "    </tr>\n",
              "    <tr>\n",
              "      <th>4</th>\n",
              "      <td>135060984132</td>\n",
              "      <td>0.176401</td>\n",
              "    </tr>\n",
              "  </tbody>\n",
              "</table>\n",
              "</div>"
            ],
            "text/plain": [
              "             id    active\n",
              "0  115562959531  0.173014\n",
              "1  264360381954  0.171604\n",
              "2   88674724256  0.271741\n",
              "3   88245158186  0.157992\n",
              "4  135060984132  0.176401"
            ]
          },
          "metadata": {
            "tags": []
          },
          "execution_count": 44
        }
      ]
    },
    {
      "cell_type": "code",
      "metadata": {
        "colab": {
          "base_uri": "https://localhost:8080/",
          "height": 191
        },
        "id": "GUnz-r4vIaSa",
        "outputId": "caa43191-b0ab-468a-efef-cca165aaadb6"
      },
      "source": [
        "predict_out.to_csv('predict.csv', header=True, index=False)\n",
        "predict_out.head()"
      ],
      "execution_count": 45,
      "outputs": [
        {
          "output_type": "execute_result",
          "data": {
            "text/html": [
              "<div>\n",
              "<style scoped>\n",
              "    .dataframe tbody tr th:only-of-type {\n",
              "        vertical-align: middle;\n",
              "    }\n",
              "\n",
              "    .dataframe tbody tr th {\n",
              "        vertical-align: top;\n",
              "    }\n",
              "\n",
              "    .dataframe thead th {\n",
              "        text-align: right;\n",
              "    }\n",
              "</style>\n",
              "<table border=\"1\" class=\"dataframe\">\n",
              "  <thead>\n",
              "    <tr style=\"text-align: right;\">\n",
              "      <th></th>\n",
              "      <th>id</th>\n",
              "      <th>active</th>\n",
              "    </tr>\n",
              "  </thead>\n",
              "  <tbody>\n",
              "    <tr>\n",
              "      <th>0</th>\n",
              "      <td>115562959531</td>\n",
              "      <td>0.173014</td>\n",
              "    </tr>\n",
              "    <tr>\n",
              "      <th>1</th>\n",
              "      <td>264360381954</td>\n",
              "      <td>0.171604</td>\n",
              "    </tr>\n",
              "    <tr>\n",
              "      <th>2</th>\n",
              "      <td>88674724256</td>\n",
              "      <td>0.271741</td>\n",
              "    </tr>\n",
              "    <tr>\n",
              "      <th>3</th>\n",
              "      <td>88245158186</td>\n",
              "      <td>0.157992</td>\n",
              "    </tr>\n",
              "    <tr>\n",
              "      <th>4</th>\n",
              "      <td>135060984132</td>\n",
              "      <td>0.176401</td>\n",
              "    </tr>\n",
              "  </tbody>\n",
              "</table>\n",
              "</div>"
            ],
            "text/plain": [
              "             id    active\n",
              "0  115562959531  0.173014\n",
              "1  264360381954  0.171604\n",
              "2   88674724256  0.271741\n",
              "3   88245158186  0.157992\n",
              "4  135060984132  0.176401"
            ]
          },
          "metadata": {
            "tags": []
          },
          "execution_count": 45
        }
      ]
    },
    {
      "cell_type": "code",
      "metadata": {
        "colab": {
          "base_uri": "https://localhost:8080/",
          "height": 17
        },
        "id": "p2E4EKhCWEC5",
        "outputId": "c7ea3f4b-2b55-45b2-c5ac-8a8cfed48b74"
      },
      "source": [
        "# This will download your prediction files\n",
        "from google.colab import files\n",
        "files.download('predict.csv')"
      ],
      "execution_count": 46,
      "outputs": [
        {
          "output_type": "display_data",
          "data": {
            "application/javascript": [
              "\n",
              "    async function download(id, filename, size) {\n",
              "      if (!google.colab.kernel.accessAllowed) {\n",
              "        return;\n",
              "      }\n",
              "      const div = document.createElement('div');\n",
              "      const label = document.createElement('label');\n",
              "      label.textContent = `Downloading \"${filename}\": `;\n",
              "      div.appendChild(label);\n",
              "      const progress = document.createElement('progress');\n",
              "      progress.max = size;\n",
              "      div.appendChild(progress);\n",
              "      document.body.appendChild(div);\n",
              "\n",
              "      const buffers = [];\n",
              "      let downloaded = 0;\n",
              "\n",
              "      const channel = await google.colab.kernel.comms.open(id);\n",
              "      // Send a message to notify the kernel that we're ready.\n",
              "      channel.send({})\n",
              "\n",
              "      for await (const message of channel.messages) {\n",
              "        // Send a message to notify the kernel that we're ready.\n",
              "        channel.send({})\n",
              "        if (message.buffers) {\n",
              "          for (const buffer of message.buffers) {\n",
              "            buffers.push(buffer);\n",
              "            downloaded += buffer.byteLength;\n",
              "            progress.value = downloaded;\n",
              "          }\n",
              "        }\n",
              "      }\n",
              "      const blob = new Blob(buffers, {type: 'application/binary'});\n",
              "      const a = document.createElement('a');\n",
              "      a.href = window.URL.createObjectURL(blob);\n",
              "      a.download = filename;\n",
              "      div.appendChild(a);\n",
              "      a.click();\n",
              "      div.remove();\n",
              "    }\n",
              "  "
            ],
            "text/plain": [
              "<IPython.core.display.Javascript object>"
            ]
          },
          "metadata": {
            "tags": []
          }
        },
        {
          "output_type": "display_data",
          "data": {
            "application/javascript": [
              "download(\"download_20e2218d-6a6d-4f5c-a86d-8f551de7bc64\", \"predict.csv\", 545642)"
            ],
            "text/plain": [
              "<IPython.core.display.Javascript object>"
            ]
          },
          "metadata": {
            "tags": []
          }
        }
      ]
    },
    {
      "cell_type": "code",
      "metadata": {
        "id": "F8lIAMjHZwok"
      },
      "source": [
        ""
      ],
      "execution_count": 46,
      "outputs": []
    }
  ]
}